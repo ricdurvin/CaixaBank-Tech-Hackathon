{
 "cells": [
  {
   "cell_type": "markdown",
   "id": "da087cfc",
   "metadata": {},
   "source": [
    "# CaixaBank Tech Hackathon"
   ]
  },
  {
   "cell_type": "markdown",
   "id": "b483fc5e",
   "metadata": {},
   "source": [
    "## 1. Importación librerías principales librerías"
   ]
  },
  {
   "cell_type": "markdown",
   "id": "5f31796e",
   "metadata": {},
   "source": [
    "A lo largo del código se importarán el resto de librerías o módulos necesarios en cada momento"
   ]
  },
  {
   "cell_type": "code",
   "execution_count": 1,
   "id": "6a439a30",
   "metadata": {},
   "outputs": [],
   "source": [
    "import numpy as np\n",
    "import pandas as pd\n",
    "from matplotlib import pyplot as plt"
   ]
  },
  {
   "cell_type": "markdown",
   "id": "275efda3",
   "metadata": {},
   "source": [
    "## 2. Carga de datos"
   ]
  },
  {
   "cell_type": "code",
   "execution_count": 2,
   "id": "2e50e950",
   "metadata": {},
   "outputs": [],
   "source": [
    "train = pd.read_csv(\"dataset/train.csv\", index_col=0)\n",
    "tweets = pd.read_csv(\"dataset/tweets_from2015_#Ibex35.csv\", index_col=0)"
   ]
  },
  {
   "cell_type": "code",
   "execution_count": 3,
   "id": "21f7614c",
   "metadata": {
    "scrolled": true
   },
   "outputs": [
    {
     "data": {
      "text/html": [
       "<div>\n",
       "<style scoped>\n",
       "    .dataframe tbody tr th:only-of-type {\n",
       "        vertical-align: middle;\n",
       "    }\n",
       "\n",
       "    .dataframe tbody tr th {\n",
       "        vertical-align: top;\n",
       "    }\n",
       "\n",
       "    .dataframe thead th {\n",
       "        text-align: right;\n",
       "    }\n",
       "</style>\n",
       "<table border=\"1\" class=\"dataframe\">\n",
       "  <thead>\n",
       "    <tr style=\"text-align: right;\">\n",
       "      <th></th>\n",
       "      <th>Open</th>\n",
       "      <th>High</th>\n",
       "      <th>Low</th>\n",
       "      <th>Close</th>\n",
       "      <th>Adj Close</th>\n",
       "      <th>Volume</th>\n",
       "      <th>Target</th>\n",
       "    </tr>\n",
       "    <tr>\n",
       "      <th>Date</th>\n",
       "      <th></th>\n",
       "      <th></th>\n",
       "      <th></th>\n",
       "      <th></th>\n",
       "      <th></th>\n",
       "      <th></th>\n",
       "      <th></th>\n",
       "    </tr>\n",
       "  </thead>\n",
       "  <tbody>\n",
       "    <tr>\n",
       "      <th>1994-01-03</th>\n",
       "      <td>3615.199951</td>\n",
       "      <td>3654.699951</td>\n",
       "      <td>3581.000000</td>\n",
       "      <td>3654.500000</td>\n",
       "      <td>3654.496338</td>\n",
       "      <td>0.0</td>\n",
       "      <td>0</td>\n",
       "    </tr>\n",
       "    <tr>\n",
       "      <th>1994-01-04</th>\n",
       "      <td>3654.500000</td>\n",
       "      <td>3675.500000</td>\n",
       "      <td>3625.100098</td>\n",
       "      <td>3630.300049</td>\n",
       "      <td>3630.296387</td>\n",
       "      <td>0.0</td>\n",
       "      <td>1</td>\n",
       "    </tr>\n",
       "    <tr>\n",
       "      <th>1994-01-05</th>\n",
       "      <td>3625.199951</td>\n",
       "      <td>3625.199951</td>\n",
       "      <td>3583.399902</td>\n",
       "      <td>3621.199951</td>\n",
       "      <td>3621.196289</td>\n",
       "      <td>0.0</td>\n",
       "      <td>1</td>\n",
       "    </tr>\n",
       "    <tr>\n",
       "      <th>1994-01-06</th>\n",
       "      <td>NaN</td>\n",
       "      <td>NaN</td>\n",
       "      <td>NaN</td>\n",
       "      <td>NaN</td>\n",
       "      <td>NaN</td>\n",
       "      <td>NaN</td>\n",
       "      <td>0</td>\n",
       "    </tr>\n",
       "    <tr>\n",
       "      <th>1994-01-07</th>\n",
       "      <td>3621.199951</td>\n",
       "      <td>3644.399902</td>\n",
       "      <td>3598.699951</td>\n",
       "      <td>3636.399902</td>\n",
       "      <td>3636.396240</td>\n",
       "      <td>0.0</td>\n",
       "      <td>1</td>\n",
       "    </tr>\n",
       "  </tbody>\n",
       "</table>\n",
       "</div>"
      ],
      "text/plain": [
       "                   Open         High          Low        Close    Adj Close  \\\n",
       "Date                                                                          \n",
       "1994-01-03  3615.199951  3654.699951  3581.000000  3654.500000  3654.496338   \n",
       "1994-01-04  3654.500000  3675.500000  3625.100098  3630.300049  3630.296387   \n",
       "1994-01-05  3625.199951  3625.199951  3583.399902  3621.199951  3621.196289   \n",
       "1994-01-06          NaN          NaN          NaN          NaN          NaN   \n",
       "1994-01-07  3621.199951  3644.399902  3598.699951  3636.399902  3636.396240   \n",
       "\n",
       "            Volume  Target  \n",
       "Date                        \n",
       "1994-01-03     0.0       0  \n",
       "1994-01-04     0.0       1  \n",
       "1994-01-05     0.0       1  \n",
       "1994-01-06     NaN       0  \n",
       "1994-01-07     0.0       1  "
      ]
     },
     "execution_count": 3,
     "metadata": {},
     "output_type": "execute_result"
    }
   ],
   "source": [
    "train.head()"
   ]
  },
  {
   "cell_type": "code",
   "execution_count": 4,
   "id": "4f845583",
   "metadata": {
    "scrolled": false
   },
   "outputs": [
    {
     "data": {
      "text/html": [
       "<div>\n",
       "<style scoped>\n",
       "    .dataframe tbody tr th:only-of-type {\n",
       "        vertical-align: middle;\n",
       "    }\n",
       "\n",
       "    .dataframe tbody tr th {\n",
       "        vertical-align: top;\n",
       "    }\n",
       "\n",
       "    .dataframe thead th {\n",
       "        text-align: right;\n",
       "    }\n",
       "</style>\n",
       "<table border=\"1\" class=\"dataframe\">\n",
       "  <thead>\n",
       "    <tr style=\"text-align: right;\">\n",
       "      <th></th>\n",
       "      <th>handle</th>\n",
       "      <th>text</th>\n",
       "    </tr>\n",
       "    <tr>\n",
       "      <th>tweetDate</th>\n",
       "      <th></th>\n",
       "      <th></th>\n",
       "    </tr>\n",
       "  </thead>\n",
       "  <tbody>\n",
       "    <tr>\n",
       "      <th>Sat Apr 09 14:47:45 +0000 2022</th>\n",
       "      <td>abelac62</td>\n",
       "      <td>He hecho el repaso de todos los componentes de...</td>\n",
       "    </tr>\n",
       "    <tr>\n",
       "      <th>Thu Apr 07 19:14:36 +0000 2022</th>\n",
       "      <td>LluisPerarnau</td>\n",
       "      <td>Els projectes que han presentat les empreses d...</td>\n",
       "    </tr>\n",
       "    <tr>\n",
       "      <th>Mon Apr 04 16:48:45 +0000 2022</th>\n",
       "      <td>Pegaso121080</td>\n",
       "      <td>Por si no lo has visto, o no lo encuentras en ...</td>\n",
       "    </tr>\n",
       "    <tr>\n",
       "      <th>Tue Apr 05 07:23:16 +0000 2022</th>\n",
       "      <td>zonavalue</td>\n",
       "      <td>📈 #BOLSA: El #Ibex35 abre en 🟢 \\n\\n🇪🇸 #Ibex35 ...</td>\n",
       "    </tr>\n",
       "    <tr>\n",
       "      <th>Thu Mar 31 16:07:43 +0000 2022</th>\n",
       "      <td>EPeconomia</td>\n",
       "      <td>El #Ibex35 retrocede un 0,4% en marzo y un 3,0...</td>\n",
       "    </tr>\n",
       "  </tbody>\n",
       "</table>\n",
       "</div>"
      ],
      "text/plain": [
       "                                       handle  \\\n",
       "tweetDate                                       \n",
       "Sat Apr 09 14:47:45 +0000 2022       abelac62   \n",
       "Thu Apr 07 19:14:36 +0000 2022  LluisPerarnau   \n",
       "Mon Apr 04 16:48:45 +0000 2022   Pegaso121080   \n",
       "Tue Apr 05 07:23:16 +0000 2022      zonavalue   \n",
       "Thu Mar 31 16:07:43 +0000 2022     EPeconomia   \n",
       "\n",
       "                                                                             text  \n",
       "tweetDate                                                                          \n",
       "Sat Apr 09 14:47:45 +0000 2022  He hecho el repaso de todos los componentes de...  \n",
       "Thu Apr 07 19:14:36 +0000 2022  Els projectes que han presentat les empreses d...  \n",
       "Mon Apr 04 16:48:45 +0000 2022  Por si no lo has visto, o no lo encuentras en ...  \n",
       "Tue Apr 05 07:23:16 +0000 2022  📈 #BOLSA: El #Ibex35 abre en 🟢 \\n\\n🇪🇸 #Ibex35 ...  \n",
       "Thu Mar 31 16:07:43 +0000 2022  El #Ibex35 retrocede un 0,4% en marzo y un 3,0...  "
      ]
     },
     "execution_count": 4,
     "metadata": {},
     "output_type": "execute_result"
    }
   ],
   "source": [
    "tweets.head()"
   ]
  },
  {
   "cell_type": "markdown",
   "id": "67a068e0",
   "metadata": {},
   "source": [
    "Comprobamos si existen valores perdidos (NaN), y en caso afirmativo, los tratamos. "
   ]
  },
  {
   "cell_type": "code",
   "execution_count": 5,
   "id": "a9a8a265",
   "metadata": {
    "scrolled": true
   },
   "outputs": [
    {
     "data": {
      "text/plain": [
       "Open         133\n",
       "High         133\n",
       "Low          133\n",
       "Close        133\n",
       "Adj Close    133\n",
       "Volume       133\n",
       "Target         0\n",
       "dtype: int64"
      ]
     },
     "execution_count": 5,
     "metadata": {},
     "output_type": "execute_result"
    }
   ],
   "source": [
    "train.isnull().sum()"
   ]
  },
  {
   "cell_type": "markdown",
   "id": "fe012088",
   "metadata": {},
   "source": [
    "Tenemos ciertos datos con valores nulos. Es llamativo que en todas las características tenemos el mismo número de datos faltantes. Vamos a dar un vistazo a estos valores."
   ]
  },
  {
   "cell_type": "code",
   "execution_count": 6,
   "id": "d7d47c37",
   "metadata": {
    "scrolled": true
   },
   "outputs": [
    {
     "data": {
      "text/html": [
       "<div>\n",
       "<style scoped>\n",
       "    .dataframe tbody tr th:only-of-type {\n",
       "        vertical-align: middle;\n",
       "    }\n",
       "\n",
       "    .dataframe tbody tr th {\n",
       "        vertical-align: top;\n",
       "    }\n",
       "\n",
       "    .dataframe thead th {\n",
       "        text-align: right;\n",
       "    }\n",
       "</style>\n",
       "<table border=\"1\" class=\"dataframe\">\n",
       "  <thead>\n",
       "    <tr style=\"text-align: right;\">\n",
       "      <th></th>\n",
       "      <th>Open</th>\n",
       "      <th>High</th>\n",
       "      <th>Low</th>\n",
       "      <th>Close</th>\n",
       "      <th>Adj Close</th>\n",
       "      <th>Volume</th>\n",
       "      <th>Target</th>\n",
       "    </tr>\n",
       "    <tr>\n",
       "      <th>Date</th>\n",
       "      <th></th>\n",
       "      <th></th>\n",
       "      <th></th>\n",
       "      <th></th>\n",
       "      <th></th>\n",
       "      <th></th>\n",
       "      <th></th>\n",
       "    </tr>\n",
       "  </thead>\n",
       "  <tbody>\n",
       "    <tr>\n",
       "      <th>1994-01-03</th>\n",
       "      <td>False</td>\n",
       "      <td>False</td>\n",
       "      <td>False</td>\n",
       "      <td>False</td>\n",
       "      <td>False</td>\n",
       "      <td>False</td>\n",
       "      <td>False</td>\n",
       "    </tr>\n",
       "    <tr>\n",
       "      <th>1994-01-04</th>\n",
       "      <td>False</td>\n",
       "      <td>False</td>\n",
       "      <td>False</td>\n",
       "      <td>False</td>\n",
       "      <td>False</td>\n",
       "      <td>False</td>\n",
       "      <td>False</td>\n",
       "    </tr>\n",
       "    <tr>\n",
       "      <th>1994-01-05</th>\n",
       "      <td>False</td>\n",
       "      <td>False</td>\n",
       "      <td>False</td>\n",
       "      <td>False</td>\n",
       "      <td>False</td>\n",
       "      <td>False</td>\n",
       "      <td>False</td>\n",
       "    </tr>\n",
       "    <tr>\n",
       "      <th>1994-01-06</th>\n",
       "      <td>True</td>\n",
       "      <td>True</td>\n",
       "      <td>True</td>\n",
       "      <td>True</td>\n",
       "      <td>True</td>\n",
       "      <td>True</td>\n",
       "      <td>False</td>\n",
       "    </tr>\n",
       "    <tr>\n",
       "      <th>1994-01-07</th>\n",
       "      <td>False</td>\n",
       "      <td>False</td>\n",
       "      <td>False</td>\n",
       "      <td>False</td>\n",
       "      <td>False</td>\n",
       "      <td>False</td>\n",
       "      <td>False</td>\n",
       "    </tr>\n",
       "    <tr>\n",
       "      <th>...</th>\n",
       "      <td>...</td>\n",
       "      <td>...</td>\n",
       "      <td>...</td>\n",
       "      <td>...</td>\n",
       "      <td>...</td>\n",
       "      <td>...</td>\n",
       "      <td>...</td>\n",
       "    </tr>\n",
       "    <tr>\n",
       "      <th>2019-05-24</th>\n",
       "      <td>False</td>\n",
       "      <td>False</td>\n",
       "      <td>False</td>\n",
       "      <td>False</td>\n",
       "      <td>False</td>\n",
       "      <td>False</td>\n",
       "      <td>False</td>\n",
       "    </tr>\n",
       "    <tr>\n",
       "      <th>2019-05-27</th>\n",
       "      <td>False</td>\n",
       "      <td>False</td>\n",
       "      <td>False</td>\n",
       "      <td>False</td>\n",
       "      <td>False</td>\n",
       "      <td>False</td>\n",
       "      <td>False</td>\n",
       "    </tr>\n",
       "    <tr>\n",
       "      <th>2019-05-28</th>\n",
       "      <td>False</td>\n",
       "      <td>False</td>\n",
       "      <td>False</td>\n",
       "      <td>False</td>\n",
       "      <td>False</td>\n",
       "      <td>False</td>\n",
       "      <td>False</td>\n",
       "    </tr>\n",
       "    <tr>\n",
       "      <th>2019-05-29</th>\n",
       "      <td>False</td>\n",
       "      <td>False</td>\n",
       "      <td>False</td>\n",
       "      <td>False</td>\n",
       "      <td>False</td>\n",
       "      <td>False</td>\n",
       "      <td>False</td>\n",
       "    </tr>\n",
       "    <tr>\n",
       "      <th>2019-05-30</th>\n",
       "      <td>False</td>\n",
       "      <td>False</td>\n",
       "      <td>False</td>\n",
       "      <td>False</td>\n",
       "      <td>False</td>\n",
       "      <td>False</td>\n",
       "      <td>False</td>\n",
       "    </tr>\n",
       "  </tbody>\n",
       "</table>\n",
       "<p>6554 rows × 7 columns</p>\n",
       "</div>"
      ],
      "text/plain": [
       "             Open   High    Low  Close  Adj Close  Volume  Target\n",
       "Date                                                             \n",
       "1994-01-03  False  False  False  False      False   False   False\n",
       "1994-01-04  False  False  False  False      False   False   False\n",
       "1994-01-05  False  False  False  False      False   False   False\n",
       "1994-01-06   True   True   True   True       True    True   False\n",
       "1994-01-07  False  False  False  False      False   False   False\n",
       "...           ...    ...    ...    ...        ...     ...     ...\n",
       "2019-05-24  False  False  False  False      False   False   False\n",
       "2019-05-27  False  False  False  False      False   False   False\n",
       "2019-05-28  False  False  False  False      False   False   False\n",
       "2019-05-29  False  False  False  False      False   False   False\n",
       "2019-05-30  False  False  False  False      False   False   False\n",
       "\n",
       "[6554 rows x 7 columns]"
      ]
     },
     "execution_count": 6,
     "metadata": {},
     "output_type": "execute_result"
    }
   ],
   "source": [
    "train.isnull()"
   ]
  },
  {
   "cell_type": "code",
   "execution_count": 7,
   "id": "71b1c27d",
   "metadata": {
    "scrolled": true
   },
   "outputs": [
    {
     "data": {
      "text/html": [
       "<div>\n",
       "<style scoped>\n",
       "    .dataframe tbody tr th:only-of-type {\n",
       "        vertical-align: middle;\n",
       "    }\n",
       "\n",
       "    .dataframe tbody tr th {\n",
       "        vertical-align: top;\n",
       "    }\n",
       "\n",
       "    .dataframe thead th {\n",
       "        text-align: right;\n",
       "    }\n",
       "</style>\n",
       "<table border=\"1\" class=\"dataframe\">\n",
       "  <thead>\n",
       "    <tr style=\"text-align: right;\">\n",
       "      <th></th>\n",
       "      <th>Open</th>\n",
       "      <th>High</th>\n",
       "      <th>Low</th>\n",
       "      <th>Close</th>\n",
       "      <th>Adj Close</th>\n",
       "      <th>Volume</th>\n",
       "      <th>Target</th>\n",
       "    </tr>\n",
       "    <tr>\n",
       "      <th>Date</th>\n",
       "      <th></th>\n",
       "      <th></th>\n",
       "      <th></th>\n",
       "      <th></th>\n",
       "      <th></th>\n",
       "      <th></th>\n",
       "      <th></th>\n",
       "    </tr>\n",
       "  </thead>\n",
       "  <tbody>\n",
       "    <tr>\n",
       "      <th>1994-01-06</th>\n",
       "      <td>NaN</td>\n",
       "      <td>NaN</td>\n",
       "      <td>NaN</td>\n",
       "      <td>NaN</td>\n",
       "      <td>NaN</td>\n",
       "      <td>NaN</td>\n",
       "      <td>0</td>\n",
       "    </tr>\n",
       "    <tr>\n",
       "      <th>1994-04-01</th>\n",
       "      <td>NaN</td>\n",
       "      <td>NaN</td>\n",
       "      <td>NaN</td>\n",
       "      <td>NaN</td>\n",
       "      <td>NaN</td>\n",
       "      <td>NaN</td>\n",
       "      <td>0</td>\n",
       "    </tr>\n",
       "    <tr>\n",
       "      <th>1994-04-04</th>\n",
       "      <td>NaN</td>\n",
       "      <td>NaN</td>\n",
       "      <td>NaN</td>\n",
       "      <td>NaN</td>\n",
       "      <td>NaN</td>\n",
       "      <td>NaN</td>\n",
       "      <td>0</td>\n",
       "    </tr>\n",
       "    <tr>\n",
       "      <th>1994-05-02</th>\n",
       "      <td>NaN</td>\n",
       "      <td>NaN</td>\n",
       "      <td>NaN</td>\n",
       "      <td>NaN</td>\n",
       "      <td>NaN</td>\n",
       "      <td>NaN</td>\n",
       "      <td>0</td>\n",
       "    </tr>\n",
       "    <tr>\n",
       "      <th>1994-10-12</th>\n",
       "      <td>NaN</td>\n",
       "      <td>NaN</td>\n",
       "      <td>NaN</td>\n",
       "      <td>NaN</td>\n",
       "      <td>NaN</td>\n",
       "      <td>NaN</td>\n",
       "      <td>0</td>\n",
       "    </tr>\n",
       "    <tr>\n",
       "      <th>...</th>\n",
       "      <td>...</td>\n",
       "      <td>...</td>\n",
       "      <td>...</td>\n",
       "      <td>...</td>\n",
       "      <td>...</td>\n",
       "      <td>...</td>\n",
       "      <td>...</td>\n",
       "    </tr>\n",
       "    <tr>\n",
       "      <th>2005-12-26</th>\n",
       "      <td>NaN</td>\n",
       "      <td>NaN</td>\n",
       "      <td>NaN</td>\n",
       "      <td>NaN</td>\n",
       "      <td>NaN</td>\n",
       "      <td>NaN</td>\n",
       "      <td>0</td>\n",
       "    </tr>\n",
       "    <tr>\n",
       "      <th>2007-01-01</th>\n",
       "      <td>NaN</td>\n",
       "      <td>NaN</td>\n",
       "      <td>NaN</td>\n",
       "      <td>NaN</td>\n",
       "      <td>NaN</td>\n",
       "      <td>NaN</td>\n",
       "      <td>0</td>\n",
       "    </tr>\n",
       "    <tr>\n",
       "      <th>2007-12-24</th>\n",
       "      <td>NaN</td>\n",
       "      <td>NaN</td>\n",
       "      <td>NaN</td>\n",
       "      <td>NaN</td>\n",
       "      <td>NaN</td>\n",
       "      <td>NaN</td>\n",
       "      <td>0</td>\n",
       "    </tr>\n",
       "    <tr>\n",
       "      <th>2012-01-02</th>\n",
       "      <td>NaN</td>\n",
       "      <td>NaN</td>\n",
       "      <td>NaN</td>\n",
       "      <td>NaN</td>\n",
       "      <td>NaN</td>\n",
       "      <td>NaN</td>\n",
       "      <td>0</td>\n",
       "    </tr>\n",
       "    <tr>\n",
       "      <th>2017-01-02</th>\n",
       "      <td>NaN</td>\n",
       "      <td>NaN</td>\n",
       "      <td>NaN</td>\n",
       "      <td>NaN</td>\n",
       "      <td>NaN</td>\n",
       "      <td>NaN</td>\n",
       "      <td>0</td>\n",
       "    </tr>\n",
       "  </tbody>\n",
       "</table>\n",
       "<p>133 rows × 7 columns</p>\n",
       "</div>"
      ],
      "text/plain": [
       "            Open  High  Low  Close  Adj Close  Volume  Target\n",
       "Date                                                         \n",
       "1994-01-06   NaN   NaN  NaN    NaN        NaN     NaN       0\n",
       "1994-04-01   NaN   NaN  NaN    NaN        NaN     NaN       0\n",
       "1994-04-04   NaN   NaN  NaN    NaN        NaN     NaN       0\n",
       "1994-05-02   NaN   NaN  NaN    NaN        NaN     NaN       0\n",
       "1994-10-12   NaN   NaN  NaN    NaN        NaN     NaN       0\n",
       "...          ...   ...  ...    ...        ...     ...     ...\n",
       "2005-12-26   NaN   NaN  NaN    NaN        NaN     NaN       0\n",
       "2007-01-01   NaN   NaN  NaN    NaN        NaN     NaN       0\n",
       "2007-12-24   NaN   NaN  NaN    NaN        NaN     NaN       0\n",
       "2012-01-02   NaN   NaN  NaN    NaN        NaN     NaN       0\n",
       "2017-01-02   NaN   NaN  NaN    NaN        NaN     NaN       0\n",
       "\n",
       "[133 rows x 7 columns]"
      ]
     },
     "execution_count": 7,
     "metadata": {},
     "output_type": "execute_result"
    }
   ],
   "source": [
    "train[train.Open.isnull()]"
   ]
  },
  {
   "cell_type": "markdown",
   "id": "4eabec78",
   "metadata": {},
   "source": [
    "Parece que tenemos 133 filas donde no se tiene información sobre ninguna de las columnas. De ser así, estos datos son totalmente inútiles. Vamos a eliminar aquellos registros donde nos encontramos con esta situación. El problema es que vamos a tener días en el dataset sin ninguna información. Quizás eso nos da algún problema."
   ]
  },
  {
   "cell_type": "code",
   "execution_count": 8,
   "id": "c43b0cf7",
   "metadata": {
    "scrolled": true
   },
   "outputs": [
    {
     "data": {
      "text/html": [
       "<div>\n",
       "<style scoped>\n",
       "    .dataframe tbody tr th:only-of-type {\n",
       "        vertical-align: middle;\n",
       "    }\n",
       "\n",
       "    .dataframe tbody tr th {\n",
       "        vertical-align: top;\n",
       "    }\n",
       "\n",
       "    .dataframe thead th {\n",
       "        text-align: right;\n",
       "    }\n",
       "</style>\n",
       "<table border=\"1\" class=\"dataframe\">\n",
       "  <thead>\n",
       "    <tr style=\"text-align: right;\">\n",
       "      <th></th>\n",
       "      <th>Open</th>\n",
       "      <th>High</th>\n",
       "      <th>Low</th>\n",
       "      <th>Close</th>\n",
       "      <th>Adj Close</th>\n",
       "      <th>Volume</th>\n",
       "      <th>Target</th>\n",
       "    </tr>\n",
       "    <tr>\n",
       "      <th>Date</th>\n",
       "      <th></th>\n",
       "      <th></th>\n",
       "      <th></th>\n",
       "      <th></th>\n",
       "      <th></th>\n",
       "      <th></th>\n",
       "      <th></th>\n",
       "    </tr>\n",
       "  </thead>\n",
       "  <tbody>\n",
       "    <tr>\n",
       "      <th>1994-01-03</th>\n",
       "      <td>3615.199951</td>\n",
       "      <td>3654.699951</td>\n",
       "      <td>3581.000000</td>\n",
       "      <td>3654.500000</td>\n",
       "      <td>3654.496338</td>\n",
       "      <td>0.0</td>\n",
       "      <td>0</td>\n",
       "    </tr>\n",
       "    <tr>\n",
       "      <th>1994-01-04</th>\n",
       "      <td>3654.500000</td>\n",
       "      <td>3675.500000</td>\n",
       "      <td>3625.100098</td>\n",
       "      <td>3630.300049</td>\n",
       "      <td>3630.296387</td>\n",
       "      <td>0.0</td>\n",
       "      <td>1</td>\n",
       "    </tr>\n",
       "    <tr>\n",
       "      <th>1994-01-05</th>\n",
       "      <td>3625.199951</td>\n",
       "      <td>3625.199951</td>\n",
       "      <td>3583.399902</td>\n",
       "      <td>3621.199951</td>\n",
       "      <td>3621.196289</td>\n",
       "      <td>0.0</td>\n",
       "      <td>1</td>\n",
       "    </tr>\n",
       "    <tr>\n",
       "      <th>1994-01-07</th>\n",
       "      <td>3621.199951</td>\n",
       "      <td>3644.399902</td>\n",
       "      <td>3598.699951</td>\n",
       "      <td>3636.399902</td>\n",
       "      <td>3636.396240</td>\n",
       "      <td>0.0</td>\n",
       "      <td>1</td>\n",
       "    </tr>\n",
       "    <tr>\n",
       "      <th>1994-01-10</th>\n",
       "      <td>3655.199951</td>\n",
       "      <td>3678.199951</td>\n",
       "      <td>3655.199951</td>\n",
       "      <td>3660.600098</td>\n",
       "      <td>3660.596436</td>\n",
       "      <td>0.0</td>\n",
       "      <td>1</td>\n",
       "    </tr>\n",
       "    <tr>\n",
       "      <th>...</th>\n",
       "      <td>...</td>\n",
       "      <td>...</td>\n",
       "      <td>...</td>\n",
       "      <td>...</td>\n",
       "      <td>...</td>\n",
       "      <td>...</td>\n",
       "      <td>...</td>\n",
       "    </tr>\n",
       "    <tr>\n",
       "      <th>2019-05-24</th>\n",
       "      <td>9150.299805</td>\n",
       "      <td>9211.099609</td>\n",
       "      <td>9141.400391</td>\n",
       "      <td>9174.599609</td>\n",
       "      <td>9174.599609</td>\n",
       "      <td>121673100.0</td>\n",
       "      <td>0</td>\n",
       "    </tr>\n",
       "    <tr>\n",
       "      <th>2019-05-27</th>\n",
       "      <td>9225.900391</td>\n",
       "      <td>9294.599609</td>\n",
       "      <td>9204.700195</td>\n",
       "      <td>9216.400391</td>\n",
       "      <td>9216.400391</td>\n",
       "      <td>60178000.0</td>\n",
       "      <td>0</td>\n",
       "    </tr>\n",
       "    <tr>\n",
       "      <th>2019-05-28</th>\n",
       "      <td>9220.400391</td>\n",
       "      <td>9224.900391</td>\n",
       "      <td>9132.900391</td>\n",
       "      <td>9191.799805</td>\n",
       "      <td>9191.799805</td>\n",
       "      <td>218900800.0</td>\n",
       "      <td>0</td>\n",
       "    </tr>\n",
       "    <tr>\n",
       "      <th>2019-05-29</th>\n",
       "      <td>9113.200195</td>\n",
       "      <td>9116.700195</td>\n",
       "      <td>9035.099609</td>\n",
       "      <td>9080.500000</td>\n",
       "      <td>9080.500000</td>\n",
       "      <td>148987100.0</td>\n",
       "      <td>0</td>\n",
       "    </tr>\n",
       "    <tr>\n",
       "      <th>2019-05-30</th>\n",
       "      <td>9120.799805</td>\n",
       "      <td>9175.200195</td>\n",
       "      <td>9114.099609</td>\n",
       "      <td>9157.799805</td>\n",
       "      <td>9157.799805</td>\n",
       "      <td>101389200.0</td>\n",
       "      <td>0</td>\n",
       "    </tr>\n",
       "  </tbody>\n",
       "</table>\n",
       "<p>6421 rows × 7 columns</p>\n",
       "</div>"
      ],
      "text/plain": [
       "                   Open         High          Low        Close    Adj Close  \\\n",
       "Date                                                                          \n",
       "1994-01-03  3615.199951  3654.699951  3581.000000  3654.500000  3654.496338   \n",
       "1994-01-04  3654.500000  3675.500000  3625.100098  3630.300049  3630.296387   \n",
       "1994-01-05  3625.199951  3625.199951  3583.399902  3621.199951  3621.196289   \n",
       "1994-01-07  3621.199951  3644.399902  3598.699951  3636.399902  3636.396240   \n",
       "1994-01-10  3655.199951  3678.199951  3655.199951  3660.600098  3660.596436   \n",
       "...                 ...          ...          ...          ...          ...   \n",
       "2019-05-24  9150.299805  9211.099609  9141.400391  9174.599609  9174.599609   \n",
       "2019-05-27  9225.900391  9294.599609  9204.700195  9216.400391  9216.400391   \n",
       "2019-05-28  9220.400391  9224.900391  9132.900391  9191.799805  9191.799805   \n",
       "2019-05-29  9113.200195  9116.700195  9035.099609  9080.500000  9080.500000   \n",
       "2019-05-30  9120.799805  9175.200195  9114.099609  9157.799805  9157.799805   \n",
       "\n",
       "                 Volume  Target  \n",
       "Date                             \n",
       "1994-01-03          0.0       0  \n",
       "1994-01-04          0.0       1  \n",
       "1994-01-05          0.0       1  \n",
       "1994-01-07          0.0       1  \n",
       "1994-01-10          0.0       1  \n",
       "...                 ...     ...  \n",
       "2019-05-24  121673100.0       0  \n",
       "2019-05-27   60178000.0       0  \n",
       "2019-05-28  218900800.0       0  \n",
       "2019-05-29  148987100.0       0  \n",
       "2019-05-30  101389200.0       0  \n",
       "\n",
       "[6421 rows x 7 columns]"
      ]
     },
     "execution_count": 8,
     "metadata": {},
     "output_type": "execute_result"
    }
   ],
   "source": [
    "train_nonull = train.dropna(subset=['Open', 'High', 'Low', 'Close', 'Adj Close', 'Volume'], how='all')\n",
    "train_nonull"
   ]
  },
  {
   "cell_type": "code",
   "execution_count": 9,
   "id": "3ac81f13",
   "metadata": {
    "scrolled": false
   },
   "outputs": [
    {
     "data": {
      "text/plain": [
       "Open         0\n",
       "High         0\n",
       "Low          0\n",
       "Close        0\n",
       "Adj Close    0\n",
       "Volume       0\n",
       "Target       0\n",
       "dtype: int64"
      ]
     },
     "execution_count": 9,
     "metadata": {},
     "output_type": "execute_result"
    }
   ],
   "source": [
    "train_nonull.isnull().sum()"
   ]
  },
  {
   "cell_type": "markdown",
   "id": "13bdab10",
   "metadata": {},
   "source": [
    "Efectivamente, tal y como supusimos, el dataset presentaba 133 días sin ninguna información en ninguna de las columnas. Eran totalmente inútiles."
   ]
  },
  {
   "cell_type": "markdown",
   "id": "66d17fa7",
   "metadata": {},
   "source": [
    "## 3. Primeros análisis de los datos"
   ]
  },
  {
   "cell_type": "code",
   "execution_count": 10,
   "id": "928160ff",
   "metadata": {},
   "outputs": [],
   "source": [
    "target = \"Target\"\n",
    "features = list(train_nonull.columns)\n",
    "features.remove(target)"
   ]
  },
  {
   "cell_type": "code",
   "execution_count": 11,
   "id": "3d59d9da",
   "metadata": {},
   "outputs": [
    {
     "name": "stdout",
     "output_type": "stream",
     "text": [
      "Nuestras variables explicativas son: ['Open', 'High', 'Low', 'Close', 'Adj Close', 'Volume']\n",
      "Nuestra variable objetivo es: Target\n"
     ]
    }
   ],
   "source": [
    "print(\"Nuestras variables explicativas son:\", features)\n",
    "print(\"Nuestra variable objetivo es:\", target)"
   ]
  },
  {
   "cell_type": "code",
   "execution_count": 12,
   "id": "febfb195",
   "metadata": {},
   "outputs": [
    {
     "data": {
      "text/html": [
       "<div>\n",
       "<style scoped>\n",
       "    .dataframe tbody tr th:only-of-type {\n",
       "        vertical-align: middle;\n",
       "    }\n",
       "\n",
       "    .dataframe tbody tr th {\n",
       "        vertical-align: top;\n",
       "    }\n",
       "\n",
       "    .dataframe thead th {\n",
       "        text-align: right;\n",
       "    }\n",
       "</style>\n",
       "<table border=\"1\" class=\"dataframe\">\n",
       "  <thead>\n",
       "    <tr style=\"text-align: right;\">\n",
       "      <th></th>\n",
       "      <th>Open</th>\n",
       "      <th>High</th>\n",
       "      <th>Low</th>\n",
       "      <th>Close</th>\n",
       "      <th>Adj Close</th>\n",
       "      <th>Volume</th>\n",
       "      <th>Target</th>\n",
       "    </tr>\n",
       "  </thead>\n",
       "  <tbody>\n",
       "    <tr>\n",
       "      <th>count</th>\n",
       "      <td>6421.000000</td>\n",
       "      <td>6421.000000</td>\n",
       "      <td>6421.000000</td>\n",
       "      <td>6421.000000</td>\n",
       "      <td>6421.000000</td>\n",
       "      <td>6.421000e+03</td>\n",
       "      <td>6421.000000</td>\n",
       "    </tr>\n",
       "    <tr>\n",
       "      <th>mean</th>\n",
       "      <td>8936.540448</td>\n",
       "      <td>9005.235576</td>\n",
       "      <td>8858.340567</td>\n",
       "      <td>8934.978558</td>\n",
       "      <td>8934.970624</td>\n",
       "      <td>8.218074e+07</td>\n",
       "      <td>0.527644</td>\n",
       "    </tr>\n",
       "    <tr>\n",
       "      <th>std</th>\n",
       "      <td>2732.102441</td>\n",
       "      <td>2749.009324</td>\n",
       "      <td>2712.511028</td>\n",
       "      <td>2731.032625</td>\n",
       "      <td>2731.030170</td>\n",
       "      <td>1.231845e+08</td>\n",
       "      <td>0.499274</td>\n",
       "    </tr>\n",
       "    <tr>\n",
       "      <th>min</th>\n",
       "      <td>2865.100098</td>\n",
       "      <td>2877.300049</td>\n",
       "      <td>2833.600098</td>\n",
       "      <td>2865.100098</td>\n",
       "      <td>2865.097168</td>\n",
       "      <td>0.000000e+00</td>\n",
       "      <td>0.000000</td>\n",
       "    </tr>\n",
       "    <tr>\n",
       "      <th>25%</th>\n",
       "      <td>7732.399902</td>\n",
       "      <td>7817.200195</td>\n",
       "      <td>7641.500000</td>\n",
       "      <td>7727.799805</td>\n",
       "      <td>7727.791992</td>\n",
       "      <td>0.000000e+00</td>\n",
       "      <td>0.000000</td>\n",
       "    </tr>\n",
       "    <tr>\n",
       "      <th>50%</th>\n",
       "      <td>9329.700195</td>\n",
       "      <td>9404.599609</td>\n",
       "      <td>9243.000000</td>\n",
       "      <td>9331.000000</td>\n",
       "      <td>9331.000000</td>\n",
       "      <td>1.966000e+05</td>\n",
       "      <td>1.000000</td>\n",
       "    </tr>\n",
       "    <tr>\n",
       "      <th>75%</th>\n",
       "      <td>10525.500000</td>\n",
       "      <td>10590.299805</td>\n",
       "      <td>10441.200195</td>\n",
       "      <td>10523.400391</td>\n",
       "      <td>10523.400391</td>\n",
       "      <td>1.773980e+08</td>\n",
       "      <td>1.000000</td>\n",
       "    </tr>\n",
       "    <tr>\n",
       "      <th>max</th>\n",
       "      <td>15999.200195</td>\n",
       "      <td>16040.400391</td>\n",
       "      <td>15868.599609</td>\n",
       "      <td>15945.700195</td>\n",
       "      <td>15945.683594</td>\n",
       "      <td>7.894902e+08</td>\n",
       "      <td>1.000000</td>\n",
       "    </tr>\n",
       "  </tbody>\n",
       "</table>\n",
       "</div>"
      ],
      "text/plain": [
       "               Open          High           Low         Close     Adj Close  \\\n",
       "count   6421.000000   6421.000000   6421.000000   6421.000000   6421.000000   \n",
       "mean    8936.540448   9005.235576   8858.340567   8934.978558   8934.970624   \n",
       "std     2732.102441   2749.009324   2712.511028   2731.032625   2731.030170   \n",
       "min     2865.100098   2877.300049   2833.600098   2865.100098   2865.097168   \n",
       "25%     7732.399902   7817.200195   7641.500000   7727.799805   7727.791992   \n",
       "50%     9329.700195   9404.599609   9243.000000   9331.000000   9331.000000   \n",
       "75%    10525.500000  10590.299805  10441.200195  10523.400391  10523.400391   \n",
       "max    15999.200195  16040.400391  15868.599609  15945.700195  15945.683594   \n",
       "\n",
       "             Volume       Target  \n",
       "count  6.421000e+03  6421.000000  \n",
       "mean   8.218074e+07     0.527644  \n",
       "std    1.231845e+08     0.499274  \n",
       "min    0.000000e+00     0.000000  \n",
       "25%    0.000000e+00     0.000000  \n",
       "50%    1.966000e+05     1.000000  \n",
       "75%    1.773980e+08     1.000000  \n",
       "max    7.894902e+08     1.000000  "
      ]
     },
     "execution_count": 12,
     "metadata": {},
     "output_type": "execute_result"
    }
   ],
   "source": [
    "train_nonull.describe()"
   ]
  },
  {
   "cell_type": "code",
   "execution_count": 13,
   "id": "03cacc94",
   "metadata": {
    "scrolled": false
   },
   "outputs": [
    {
     "name": "stdout",
     "output_type": "stream",
     "text": [
      "<class 'pandas.core.frame.DataFrame'>\n",
      "Index: 6421 entries, 1994-01-03 to 2019-05-30\n",
      "Data columns (total 7 columns):\n",
      " #   Column     Non-Null Count  Dtype  \n",
      "---  ------     --------------  -----  \n",
      " 0   Open       6421 non-null   float64\n",
      " 1   High       6421 non-null   float64\n",
      " 2   Low        6421 non-null   float64\n",
      " 3   Close      6421 non-null   float64\n",
      " 4   Adj Close  6421 non-null   float64\n",
      " 5   Volume     6421 non-null   float64\n",
      " 6   Target     6421 non-null   int64  \n",
      "dtypes: float64(6), int64(1)\n",
      "memory usage: 401.3+ KB\n"
     ]
    }
   ],
   "source": [
    "train_nonull.info()"
   ]
  },
  {
   "cell_type": "markdown",
   "id": "038bb56b",
   "metadata": {},
   "source": [
    "Por lo que podemos observar, todas las variables explicativas son de tipo numéricas (no hay ninguna categórica), mientras que la variable objetivo es una variable binaria, la cual vale 0 o 1. Por tanto, estamos ante un problema de clasificación. Debemos predecir si nuestra variable objetivo será 0 o 1."
   ]
  },
  {
   "cell_type": "markdown",
   "id": "b3f64861",
   "metadata": {},
   "source": [
    "## 4. Representaciones de los datos"
   ]
  },
  {
   "cell_type": "code",
   "execution_count": 14,
   "id": "0ba05976",
   "metadata": {
    "scrolled": true
   },
   "outputs": [
    {
     "data": {
      "image/png": "[encoded data removed]",
      "text/plain": [
       "<Figure size 864x864 with 49 Axes>"
      ]
     },
     "metadata": {
      "needs_background": "light"
     },
     "output_type": "display_data"
    }
   ],
   "source": [
    "from pandas.plotting import scatter_matrix\n",
    "\n",
    "scatter_matrix(train_nonull, figsize = (12, 12), diagonal = 'kde');"
   ]
  },
  {
   "cell_type": "code",
   "execution_count": 15,
   "id": "cb7c391b",
   "metadata": {
    "scrolled": true
   },
   "outputs": [
    {
     "data": {
      "image/png": "[encoded data removed]",
      "text/plain": [
       "<Figure size 432x288 with 2 Axes>"
      ]
     },
     "metadata": {
      "needs_background": "light"
     },
     "output_type": "display_data"
    },
    {
     "data": {
      "image/png": "[encoded data removed]",
      "text/plain": [
       "<Figure size 432x288 with 2 Axes>"
      ]
     },
     "metadata": {
      "needs_background": "light"
     },
     "output_type": "display_data"
    },
    {
     "data": {
      "image/png": "[encoded data removed]",
      "text/plain": [
       "<Figure size 432x288 with 2 Axes>"
      ]
     },
     "metadata": {
      "needs_background": "light"
     },
     "output_type": "display_data"
    },
    {
     "data": {
      "image/png": "[encoded data removed]",
      "text/plain": [
       "<Figure size 432x288 with 2 Axes>"
      ]
     },
     "metadata": {
      "needs_background": "light"
     },
     "output_type": "display_data"
    },
    {
     "data": {
      "image/png": "[encoded data removed]",
      "text/plain": [
       "<Figure size 432x288 with 2 Axes>"
      ]
     },
     "metadata": {
      "needs_background": "light"
     },
     "output_type": "display_data"
    },
    {
     "data": {
      "image/png": "[encoded data removed]",
      "text/plain": [
       "<Figure size 432x288 with 2 Axes>"
      ]
     },
     "metadata": {
      "needs_background": "light"
     },
     "output_type": "display_data"
    }
   ],
   "source": [
    "for var in features:\n",
    "    f, axarr = plt.subplots(2, sharex = True)\n",
    "    \n",
    "    axarr[0].hist(train_nonull[var][train_nonull[target]==0])\n",
    "    axarr[1].hist(train_nonull[var][train_nonull[target]==1])\n",
    "    \n",
    "    axarr[0].set_ylabel('False')\n",
    "    axarr[1].set_ylabel('True')\n",
    "    axarr[0].set_title(var)"
   ]
  },
  {
   "cell_type": "markdown",
   "id": "a027a51f",
   "metadata": {},
   "source": [
    "Todas las características que contiene el dataset nos pueden ser de gran ayuda, por lo que no es necesario eliinar ninguna de ellas."
   ]
  },
  {
   "cell_type": "code",
   "execution_count": 16,
   "id": "edcee6e7",
   "metadata": {
    "scrolled": true
   },
   "outputs": [
    {
     "data": {
      "text/plain": [
       "<AxesSubplot:>"
      ]
     },
     "execution_count": 16,
     "metadata": {},
     "output_type": "execute_result"
    },
    {
     "data": {
      "image/png": "[encoded data removed]",
      "text/plain": [
       "<Figure size 432x288 with 1 Axes>"
      ]
     },
     "metadata": {
      "needs_background": "light"
     },
     "output_type": "display_data"
    }
   ],
   "source": [
    "train_nonull.Target.hist()"
   ]
  },
  {
   "cell_type": "markdown",
   "id": "3faafae4",
   "metadata": {},
   "source": [
    "Tenemos una distribución equitativa entre los 0 y 1, esto es bueno."
   ]
  },
  {
   "cell_type": "markdown",
   "id": "0c54b928",
   "metadata": {},
   "source": [
    "## 5. Ingeniería de características"
   ]
  },
  {
   "cell_type": "markdown",
   "id": "2b6371f6",
   "metadata": {},
   "source": [
    "He decidido no hacer uso del dato del día, sin embargo, sería interesante poder controlar la tendencia. Podemos crear variables que sean, por ejemplo, el precio de cierre entre distintos días, así podemos observar si en un día concreto, el precio está subiendo o bajando. Creo una función para ello."
   ]
  },
  {
   "cell_type": "code",
   "execution_count": 17,
   "id": "431ee67d",
   "metadata": {},
   "outputs": [],
   "source": [
    "def create_diff_column (df, column, window):\n",
    "    \n",
    "    new_column = column + \"_diff_\" + str(window)\n",
    "    \n",
    "    #df[new_column] = df[column].rolling(window=window).apply(lambda x: x.iloc[1] - x.iloc[0])\n",
    "    df[new_column] = df[column].diff(periods=window)\n",
    "    \n",
    "    return df\n",
    "\n",
    "def create_diff_columns (df, column, n_days):\n",
    "    for day in range(1, n_days):\n",
    "        df = create_diff_column (df, column, day)\n",
    "    \n",
    "    return df"
   ]
  },
  {
   "cell_type": "code",
   "execution_count": 18,
   "id": "2c508779",
   "metadata": {
    "scrolled": true
   },
   "outputs": [],
   "source": [
    "train_ing = create_diff_columns(train_nonull.copy(deep=True), \"Adj Close\", 5)"
   ]
  },
  {
   "cell_type": "markdown",
   "id": "7fcf8704",
   "metadata": {},
   "source": [
    "Tenemos dos variables prácticamente iguales, _Close_ y _Adj Close_. Eliminaremos la primera de ellas."
   ]
  },
  {
   "cell_type": "code",
   "execution_count": 19,
   "id": "e94f20d6",
   "metadata": {},
   "outputs": [],
   "source": [
    "train_ing.drop(columns=[\"Close\"], inplace=True)"
   ]
  },
  {
   "cell_type": "markdown",
   "id": "fcdacb45",
   "metadata": {},
   "source": [
    "Llegamos, por tanto, al siguiente dataset:"
   ]
  },
  {
   "cell_type": "code",
   "execution_count": 20,
   "id": "4aad34b4",
   "metadata": {
    "scrolled": true
   },
   "outputs": [
    {
     "data": {
      "text/html": [
       "<div>\n",
       "<style scoped>\n",
       "    .dataframe tbody tr th:only-of-type {\n",
       "        vertical-align: middle;\n",
       "    }\n",
       "\n",
       "    .dataframe tbody tr th {\n",
       "        vertical-align: top;\n",
       "    }\n",
       "\n",
       "    .dataframe thead th {\n",
       "        text-align: right;\n",
       "    }\n",
       "</style>\n",
       "<table border=\"1\" class=\"dataframe\">\n",
       "  <thead>\n",
       "    <tr style=\"text-align: right;\">\n",
       "      <th></th>\n",
       "      <th>Open</th>\n",
       "      <th>High</th>\n",
       "      <th>Low</th>\n",
       "      <th>Adj Close</th>\n",
       "      <th>Volume</th>\n",
       "      <th>Target</th>\n",
       "      <th>Adj Close_diff_1</th>\n",
       "      <th>Adj Close_diff_2</th>\n",
       "      <th>Adj Close_diff_3</th>\n",
       "      <th>Adj Close_diff_4</th>\n",
       "    </tr>\n",
       "    <tr>\n",
       "      <th>Date</th>\n",
       "      <th></th>\n",
       "      <th></th>\n",
       "      <th></th>\n",
       "      <th></th>\n",
       "      <th></th>\n",
       "      <th></th>\n",
       "      <th></th>\n",
       "      <th></th>\n",
       "      <th></th>\n",
       "      <th></th>\n",
       "    </tr>\n",
       "  </thead>\n",
       "  <tbody>\n",
       "    <tr>\n",
       "      <th>1994-01-03</th>\n",
       "      <td>3615.199951</td>\n",
       "      <td>3654.699951</td>\n",
       "      <td>3581.000000</td>\n",
       "      <td>3654.496338</td>\n",
       "      <td>0.0</td>\n",
       "      <td>0</td>\n",
       "      <td>NaN</td>\n",
       "      <td>NaN</td>\n",
       "      <td>NaN</td>\n",
       "      <td>NaN</td>\n",
       "    </tr>\n",
       "    <tr>\n",
       "      <th>1994-01-04</th>\n",
       "      <td>3654.500000</td>\n",
       "      <td>3675.500000</td>\n",
       "      <td>3625.100098</td>\n",
       "      <td>3630.296387</td>\n",
       "      <td>0.0</td>\n",
       "      <td>1</td>\n",
       "      <td>-24.199951</td>\n",
       "      <td>NaN</td>\n",
       "      <td>NaN</td>\n",
       "      <td>NaN</td>\n",
       "    </tr>\n",
       "    <tr>\n",
       "      <th>1994-01-05</th>\n",
       "      <td>3625.199951</td>\n",
       "      <td>3625.199951</td>\n",
       "      <td>3583.399902</td>\n",
       "      <td>3621.196289</td>\n",
       "      <td>0.0</td>\n",
       "      <td>1</td>\n",
       "      <td>-9.100098</td>\n",
       "      <td>-33.300049</td>\n",
       "      <td>NaN</td>\n",
       "      <td>NaN</td>\n",
       "    </tr>\n",
       "    <tr>\n",
       "      <th>1994-01-07</th>\n",
       "      <td>3621.199951</td>\n",
       "      <td>3644.399902</td>\n",
       "      <td>3598.699951</td>\n",
       "      <td>3636.396240</td>\n",
       "      <td>0.0</td>\n",
       "      <td>1</td>\n",
       "      <td>15.199951</td>\n",
       "      <td>6.099853</td>\n",
       "      <td>-18.100098</td>\n",
       "      <td>NaN</td>\n",
       "    </tr>\n",
       "    <tr>\n",
       "      <th>1994-01-10</th>\n",
       "      <td>3655.199951</td>\n",
       "      <td>3678.199951</td>\n",
       "      <td>3655.199951</td>\n",
       "      <td>3660.596436</td>\n",
       "      <td>0.0</td>\n",
       "      <td>1</td>\n",
       "      <td>24.200196</td>\n",
       "      <td>39.400147</td>\n",
       "      <td>30.300049</td>\n",
       "      <td>6.100098</td>\n",
       "    </tr>\n",
       "    <tr>\n",
       "      <th>...</th>\n",
       "      <td>...</td>\n",
       "      <td>...</td>\n",
       "      <td>...</td>\n",
       "      <td>...</td>\n",
       "      <td>...</td>\n",
       "      <td>...</td>\n",
       "      <td>...</td>\n",
       "      <td>...</td>\n",
       "      <td>...</td>\n",
       "      <td>...</td>\n",
       "    </tr>\n",
       "    <tr>\n",
       "      <th>2019-05-24</th>\n",
       "      <td>9150.299805</td>\n",
       "      <td>9211.099609</td>\n",
       "      <td>9141.400391</td>\n",
       "      <td>9174.599609</td>\n",
       "      <td>121673100.0</td>\n",
       "      <td>0</td>\n",
       "      <td>60.599609</td>\n",
       "      <td>-57.600586</td>\n",
       "      <td>-64.500000</td>\n",
       "      <td>-25.100586</td>\n",
       "    </tr>\n",
       "    <tr>\n",
       "      <th>2019-05-27</th>\n",
       "      <td>9225.900391</td>\n",
       "      <td>9294.599609</td>\n",
       "      <td>9204.700195</td>\n",
       "      <td>9216.400391</td>\n",
       "      <td>60178000.0</td>\n",
       "      <td>0</td>\n",
       "      <td>41.800782</td>\n",
       "      <td>102.400391</td>\n",
       "      <td>-15.799804</td>\n",
       "      <td>-22.699218</td>\n",
       "    </tr>\n",
       "    <tr>\n",
       "      <th>2019-05-28</th>\n",
       "      <td>9220.400391</td>\n",
       "      <td>9224.900391</td>\n",
       "      <td>9132.900391</td>\n",
       "      <td>9191.799805</td>\n",
       "      <td>218900800.0</td>\n",
       "      <td>0</td>\n",
       "      <td>-24.600586</td>\n",
       "      <td>17.200196</td>\n",
       "      <td>77.799805</td>\n",
       "      <td>-40.400390</td>\n",
       "    </tr>\n",
       "    <tr>\n",
       "      <th>2019-05-29</th>\n",
       "      <td>9113.200195</td>\n",
       "      <td>9116.700195</td>\n",
       "      <td>9035.099609</td>\n",
       "      <td>9080.500000</td>\n",
       "      <td>148987100.0</td>\n",
       "      <td>0</td>\n",
       "      <td>-111.299805</td>\n",
       "      <td>-135.900391</td>\n",
       "      <td>-94.099609</td>\n",
       "      <td>-33.500000</td>\n",
       "    </tr>\n",
       "    <tr>\n",
       "      <th>2019-05-30</th>\n",
       "      <td>9120.799805</td>\n",
       "      <td>9175.200195</td>\n",
       "      <td>9114.099609</td>\n",
       "      <td>9157.799805</td>\n",
       "      <td>101389200.0</td>\n",
       "      <td>0</td>\n",
       "      <td>77.299805</td>\n",
       "      <td>-34.000000</td>\n",
       "      <td>-58.600586</td>\n",
       "      <td>-16.799804</td>\n",
       "    </tr>\n",
       "  </tbody>\n",
       "</table>\n",
       "<p>6421 rows × 10 columns</p>\n",
       "</div>"
      ],
      "text/plain": [
       "                   Open         High          Low    Adj Close       Volume  \\\n",
       "Date                                                                          \n",
       "1994-01-03  3615.199951  3654.699951  3581.000000  3654.496338          0.0   \n",
       "1994-01-04  3654.500000  3675.500000  3625.100098  3630.296387          0.0   \n",
       "1994-01-05  3625.199951  3625.199951  3583.399902  3621.196289          0.0   \n",
       "1994-01-07  3621.199951  3644.399902  3598.699951  3636.396240          0.0   \n",
       "1994-01-10  3655.199951  3678.199951  3655.199951  3660.596436          0.0   \n",
       "...                 ...          ...          ...          ...          ...   \n",
       "2019-05-24  9150.299805  9211.099609  9141.400391  9174.599609  121673100.0   \n",
       "2019-05-27  9225.900391  9294.599609  9204.700195  9216.400391   60178000.0   \n",
       "2019-05-28  9220.400391  9224.900391  9132.900391  9191.799805  218900800.0   \n",
       "2019-05-29  9113.200195  9116.700195  9035.099609  9080.500000  148987100.0   \n",
       "2019-05-30  9120.799805  9175.200195  9114.099609  9157.799805  101389200.0   \n",
       "\n",
       "            Target  Adj Close_diff_1  Adj Close_diff_2  Adj Close_diff_3  \\\n",
       "Date                                                                       \n",
       "1994-01-03       0               NaN               NaN               NaN   \n",
       "1994-01-04       1        -24.199951               NaN               NaN   \n",
       "1994-01-05       1         -9.100098        -33.300049               NaN   \n",
       "1994-01-07       1         15.199951          6.099853        -18.100098   \n",
       "1994-01-10       1         24.200196         39.400147         30.300049   \n",
       "...            ...               ...               ...               ...   \n",
       "2019-05-24       0         60.599609        -57.600586        -64.500000   \n",
       "2019-05-27       0         41.800782        102.400391        -15.799804   \n",
       "2019-05-28       0        -24.600586         17.200196         77.799805   \n",
       "2019-05-29       0       -111.299805       -135.900391        -94.099609   \n",
       "2019-05-30       0         77.299805        -34.000000        -58.600586   \n",
       "\n",
       "            Adj Close_diff_4  \n",
       "Date                          \n",
       "1994-01-03               NaN  \n",
       "1994-01-04               NaN  \n",
       "1994-01-05               NaN  \n",
       "1994-01-07               NaN  \n",
       "1994-01-10          6.100098  \n",
       "...                      ...  \n",
       "2019-05-24        -25.100586  \n",
       "2019-05-27        -22.699218  \n",
       "2019-05-28        -40.400390  \n",
       "2019-05-29        -33.500000  \n",
       "2019-05-30        -16.799804  \n",
       "\n",
       "[6421 rows x 10 columns]"
      ]
     },
     "execution_count": 20,
     "metadata": {},
     "output_type": "execute_result"
    }
   ],
   "source": [
    "train_ing"
   ]
  },
  {
   "cell_type": "markdown",
   "id": "f2f907be",
   "metadata": {},
   "source": [
    "## 6. Selección de características"
   ]
  },
  {
   "cell_type": "markdown",
   "id": "9ea051b1",
   "metadata": {},
   "source": [
    "Una vez tenemos estas nuevas características que hemos creado, podríamos eliminar _Open_ o _Adj Close_. Eliminamos _Open_ por ejemplo."
   ]
  },
  {
   "cell_type": "code",
   "execution_count": 21,
   "id": "3372dfd3",
   "metadata": {},
   "outputs": [],
   "source": [
    "train_ing.drop(columns=[\"Open\"], inplace=True)"
   ]
  },
  {
   "cell_type": "markdown",
   "id": "24e9b4d4",
   "metadata": {},
   "source": [
    "## 7. Preparación modelo"
   ]
  },
  {
   "cell_type": "markdown",
   "id": "8cc24cc3",
   "metadata": {},
   "source": [
    "Creamos una función que realize toda la preparación necesaria."
   ]
  },
  {
   "cell_type": "code",
   "execution_count": 22,
   "id": "24127f2e",
   "metadata": {},
   "outputs": [],
   "source": [
    "from sklearn.preprocessing import MinMaxScaler\n",
    "from sklearn.model_selection import train_test_split"
   ]
  },
  {
   "cell_type": "code",
   "execution_count": 23,
   "id": "173114b5",
   "metadata": {},
   "outputs": [],
   "source": [
    "target = \"Target\"\n",
    "features = list(train_ing.columns)\n",
    "features.remove(target)"
   ]
  },
  {
   "cell_type": "code",
   "execution_count": 24,
   "id": "51d3c349",
   "metadata": {},
   "outputs": [],
   "source": [
    "train_ing.fillna(0, inplace=True)\n",
    "    \n",
    "data_features = train_ing[features]\n",
    "data_target = train_ing[target]\n",
    "    \n",
    "scaler = MinMaxScaler().fit(data_features)\n",
    "features_MinMax = scaler.transform(data_features)\n",
    "    \n",
    "X_train, X_valid, y_train, y_valid = train_test_split(features_MinMax, data_target, train_size=0.8,\n",
    "                                                      random_state=0)"
   ]
  },
  {
   "cell_type": "code",
   "execution_count": 25,
   "id": "e4c28c06",
   "metadata": {
    "scrolled": true
   },
   "outputs": [
    {
     "name": "stdout",
     "output_type": "stream",
     "text": [
      "Tamaño X_train: (5136, 8)\n",
      "Tamaño X_train: (1285, 8)\n",
      "Tamaño X_train: (5136,)\n",
      "Tamaño X_train: (1285,)\n"
     ]
    }
   ],
   "source": [
    "print('Tamaño X_train:', X_train.shape)\n",
    "print('Tamaño X_train:', X_valid.shape)\n",
    "print('Tamaño X_train:', y_train.shape)\n",
    "print('Tamaño X_train:', y_valid.shape)"
   ]
  },
  {
   "cell_type": "markdown",
   "id": "f4f21a11",
   "metadata": {},
   "source": [
    "## 8. Modelos"
   ]
  },
  {
   "cell_type": "markdown",
   "id": "bb419760",
   "metadata": {},
   "source": [
    "Se crea una función que nos ayude a determinar las métricas de los modelos planteados."
   ]
  },
  {
   "cell_type": "code",
   "execution_count": 26,
   "id": "250766d2",
   "metadata": {},
   "outputs": [],
   "source": [
    "from sklearn.metrics import accuracy_score, auc, confusion_matrix, f1_score, precision_score, recall_score, roc_curve"
   ]
  },
  {
   "cell_type": "code",
   "execution_count": 27,
   "id": "7519635b",
   "metadata": {},
   "outputs": [],
   "source": [
    "def metricas_modelos(model, y_true, y_pred):\n",
    "    from sklearn.metrics import accuracy_score, auc, confusion_matrix, f1_score, precision_score, recall_score, roc_curve\n",
    "    \n",
    "    print(\"Modelo:\", model)\n",
    "    # Obtención de matriz de confusión\n",
    "    confusion_matrix = confusion_matrix(y_true, y_pred)\n",
    "\n",
    "    print(\"\\tLa matriz de confusión es \")\n",
    "    print(confusion_matrix)\n",
    "\n",
    "    print('\\tPrecisión:', accuracy_score(y_true, y_pred))\n",
    "    print('\\tExactitud:', precision_score(y_true, y_pred))\n",
    "    print('\\tExhaustividad:', recall_score(y_true, y_pred))\n",
    "    print('\\tF1:', f1_score(y_true, y_pred))\n",
    "\n",
    "    false_positive_rate, recall, thresholds = roc_curve(y_true, y_pred)\n",
    "    roc_auc = auc(false_positive_rate, recall)\n",
    "\n",
    "    print('\\tAUC:', auc(false_positive_rate, recall))\n",
    "\n",
    "    plt.plot(false_positive_rate, recall, 'b')\n",
    "    plt.plot([0, 1], [0, 1], 'r--')\n",
    "    plt.title('AUC = %0.2f' % roc_auc)"
   ]
  },
  {
   "cell_type": "markdown",
   "id": "089b7e2a",
   "metadata": {},
   "source": [
    "### Regresión logística"
   ]
  },
  {
   "cell_type": "code",
   "execution_count": 28,
   "id": "984a82e5",
   "metadata": {
    "scrolled": true
   },
   "outputs": [
    {
     "name": "stdout",
     "output_type": "stream",
     "text": [
      "Modelo: LogisticRegression\n",
      "\tLa matriz de confusión es \n",
      "[[ 39 556]\n",
      " [ 48 642]]\n",
      "\tPrecisión: 0.5299610894941634\n",
      "\tExactitud: 0.5358931552587646\n",
      "\tExhaustividad: 0.9304347826086956\n",
      "\tF1: 0.6800847457627117\n",
      "\tAUC: 0.4979905005480453\n"
     ]
    },
    {
     "data": {
      "image/png": "[encoded data removed]",
      "text/plain": [
       "<Figure size 432x288 with 1 Axes>"
      ]
     },
     "metadata": {
      "needs_background": "light"
     },
     "output_type": "display_data"
    }
   ],
   "source": [
    "from sklearn.linear_model import LogisticRegression\n",
    "\n",
    "logistic = LogisticRegression().fit(X_train, y_train)\n",
    "\n",
    "y_logistic_train = logistic.predict(X_train)\n",
    "y_logistic_valid = logistic.predict(X_valid)\n",
    "\n",
    "metricas_modelos(\"LogisticRegression\", y_valid, y_logistic_valid)\n",
    "\n",
    "#print(f'Exactitud de Regresión en entrenamiento { precision_score(y_logistic_train, y_train) : 0.5} y validación { precision_score(y_logistic_valid, y_valid) : 0.5}')\n",
    "\n",
    "#print(f'\\nExhaustividad de Regresión en entrenamiento { recall_score(y_logistic_train, y_train) : 0.5} y validación { recall_score(y_logistic_valid, y_valid) : 0.5}')"
   ]
  },
  {
   "cell_type": "markdown",
   "id": "9fc44840",
   "metadata": {},
   "source": [
    "### Árboles de decisión"
   ]
  },
  {
   "cell_type": "code",
   "execution_count": 29,
   "id": "df1ef2cc",
   "metadata": {},
   "outputs": [
    {
     "data": {
      "text/plain": [
       "<matplotlib.legend.Legend at 0x15c4f81ccd0>"
      ]
     },
     "execution_count": 29,
     "metadata": {},
     "output_type": "execute_result"
    },
    {
     "data": {
      "image/png": "[encoded data removed]",
      "text/plain": [
       "<Figure size 432x288 with 1 Axes>"
      ]
     },
     "metadata": {
      "needs_background": "light"
     },
     "output_type": "display_data"
    }
   ],
   "source": [
    "from sklearn.tree import DecisionTreeClassifier\n",
    "\n",
    "depth_values = range(1, 15)\n",
    "train_errors = []\n",
    "val_errors = []\n",
    "\n",
    "for depth in depth_values:\n",
    "    tree = DecisionTreeClassifier(max_depth = depth, random_state=0).fit(X_train, y_train)\n",
    "    \n",
    "    train_errors.append(precision_score(tree.predict(X_train), y_train))\n",
    "    val_errors.append(precision_score(tree.predict(X_valid), y_valid))\n",
    "    \n",
    "plt.plot(depth_values, train_errors, label=\"Entrenamiento\")\n",
    "plt.plot(depth_values, val_errors, label=\"Validación\")\n",
    "plt.xlabel(\"depth\")\n",
    "plt.ylabel(\"Exactitud\")\n",
    "plt.legend(loc=\"best\")"
   ]
  },
  {
   "cell_type": "code",
   "execution_count": 30,
   "id": "2d4d1314",
   "metadata": {
    "scrolled": true
   },
   "outputs": [
    {
     "name": "stdout",
     "output_type": "stream",
     "text": [
      "Modelo: DecisionTreeClassifier\n",
      "\tLa matriz de confusión es \n",
      "[[150 445]\n",
      " [126 564]]\n",
      "\tPrecisión: 0.5556420233463035\n",
      "\tExactitud: 0.5589692765113974\n",
      "\tExhaustividad: 0.8173913043478261\n",
      "\tF1: 0.6639199529134785\n",
      "\tAUC: 0.5347460723419803\n"
     ]
    },
    {
     "data": {
      "image/png": "[encoded data removed]",
      "text/plain": [
       "<Figure size 432x288 with 1 Axes>"
      ]
     },
     "metadata": {
      "needs_background": "light"
     },
     "output_type": "display_data"
    }
   ],
   "source": [
    "#from sklearn.tree import DecisionTreeClassifier\n",
    "\n",
    "tree = DecisionTreeClassifier(max_depth = 4, random_state=0).fit(X_train, y_train)\n",
    "\n",
    "y_tree_train = tree.predict(X_train)\n",
    "y_tree_valid = tree.predict(X_valid)\n",
    "\n",
    "metricas_modelos(\"DecisionTreeClassifier\", y_valid, y_tree_valid)\n",
    "\n",
    "#print(f'Exactitud de Árbol en entrenamiento { precision_score(y_tree_train, y_train) : 0.5} y validación { precision_score(y_tree_valid, y_valid) : 0.5}')\n",
    "\n",
    "#print(f'Exhaustividad de Árbol en entrenamiento { recall_score(y_tree_train, y_train) : 0.5} y validación { recall_score(y_tree_valid, y_valid) : 0.5}')"
   ]
  },
  {
   "cell_type": "markdown",
   "id": "f7750fe8",
   "metadata": {},
   "source": [
    "### Random Forest"
   ]
  },
  {
   "cell_type": "code",
   "execution_count": 31,
   "id": "539c9ea4",
   "metadata": {},
   "outputs": [
    {
     "name": "stdout",
     "output_type": "stream",
     "text": [
      "Modelo: RandomForestClassifier\n",
      "\tLa matriz de confusión es \n",
      "[[ 39 556]\n",
      " [ 48 642]]\n",
      "\tPrecisión: 0.5299610894941634\n",
      "\tExactitud: 0.5358931552587646\n",
      "\tExhaustividad: 0.9304347826086956\n",
      "\tF1: 0.6800847457627117\n",
      "\tAUC: 0.4979905005480453\n"
     ]
    },
    {
     "data": {
      "image/png": "[encoded data removed]",
      "text/plain": [
       "<Figure size 432x288 with 1 Axes>"
      ]
     },
     "metadata": {
      "needs_background": "light"
     },
     "output_type": "display_data"
    }
   ],
   "source": [
    "from sklearn.ensemble import RandomForestClassifier\n",
    "\n",
    "randomForest = RandomForestClassifier(random_state=0).fit(X_train, y_train)\n",
    "\n",
    "y_randomForest_train = randomForest.predict(X_train)\n",
    "y_randomForest_valid = randomForest.predict(X_valid)\n",
    "\n",
    "metricas_modelos(\"RandomForestClassifier\", y_valid, y_logistic_valid)"
   ]
  },
  {
   "cell_type": "markdown",
   "id": "9c2ca651",
   "metadata": {},
   "source": [
    "### Ada Boost"
   ]
  },
  {
   "cell_type": "code",
   "execution_count": 32,
   "id": "fd838282",
   "metadata": {},
   "outputs": [
    {
     "data": {
      "text/plain": [
       "0.5291828793774319"
      ]
     },
     "execution_count": 32,
     "metadata": {},
     "output_type": "execute_result"
    }
   ],
   "source": [
    "from sklearn.ensemble import AdaBoostClassifier\n",
    "\n",
    "ada_clf = AdaBoostClassifier(\n",
    "    DecisionTreeClassifier(max_depth=1),\n",
    "    n_estimators=200,\n",
    "    algorithm=\"SAMME.R\",\n",
    "    learning_rate=0.5)\n",
    "\n",
    "ada_clf.fit(X_train, y_train)\n",
    "\n",
    "y_pred = ada_clf.predict(X_valid)\n",
    "\n",
    "accuracy_score(y_valid, y_pred)"
   ]
  },
  {
   "cell_type": "markdown",
   "id": "60499c5e",
   "metadata": {},
   "source": [
    "## 8. Voting"
   ]
  },
  {
   "cell_type": "code",
   "execution_count": 33,
   "id": "3fab0b8f",
   "metadata": {},
   "outputs": [],
   "source": [
    "from sklearn.svm import SVC"
   ]
  },
  {
   "cell_type": "code",
   "execution_count": 34,
   "id": "3ac3939e",
   "metadata": {},
   "outputs": [],
   "source": [
    "models = [\n",
    "    ('logistic', LogisticRegression()),\n",
    "    ('tree', DecisionTreeClassifier(max_depth=2, random_state=0)),\n",
    "    ('randomForest', RandomForestClassifier(n_estimators=4, random_state=0)),\n",
    "    ('svm', SVC())\n",
    "]"
   ]
  },
  {
   "cell_type": "code",
   "execution_count": 35,
   "id": "3bce9e4d",
   "metadata": {},
   "outputs": [
    {
     "name": "stdout",
     "output_type": "stream",
     "text": [
      "Precisión en entrenamiento  0.648 y validación  0.539\n"
     ]
    }
   ],
   "source": [
    "from sklearn.ensemble import VotingClassifier\n",
    "\n",
    "ensemble = VotingClassifier(models).fit(X_train, y_train)\n",
    "\n",
    "print(f'Precisión en entrenamiento { ensemble.score(X_train, y_train) : .3f} y validación { ensemble.score(X_valid, y_valid) : .3f}')"
   ]
  },
  {
   "cell_type": "code",
   "execution_count": 36,
   "id": "47a19fe6",
   "metadata": {},
   "outputs": [
    {
     "name": "stdout",
     "output_type": "stream",
     "text": [
      "Precisión en entrenamiento  0.6478 y validación  0.5393\n",
      "Exactitud en entrenamiento  0.8244 y validación  0.7126\n",
      "Exhaustividad en entrenamiento  0.6478 y validación  0.5393\n"
     ]
    }
   ],
   "source": [
    "from sklearn.metrics import accuracy_score, precision_score, recall_score\n",
    "\n",
    "def calculate_scores(model, X_train, X_test, y_train, y_test):\n",
    "    X_train_predict = model.predict(X_train)\n",
    "    X_test_predict = model.predict(X_test)\n",
    "\n",
    "    accuracy_train = accuracy_score(X_train_predict, y_train)\n",
    "    accuracy_test = accuracy_score(X_test_predict, y_test)\n",
    "    precision_train = precision_score(X_train_predict, y_train, average='weighted')\n",
    "    precision_test = precision_score(X_test_predict, y_test, average='weighted')\n",
    "    recall_train = recall_score(X_train_predict, y_train, average='weighted')\n",
    "    recall_test = recall_score(X_test_predict, y_test, average='weighted')\n",
    "\n",
    "    print(f'Precisión en entrenamiento { accuracy_train : .4f} y validación { accuracy_test : .4f}')\n",
    "    print(f'Exactitud en entrenamiento { precision_train : .4f} y validación { precision_test : .4f}')\n",
    "    print(f'Exhaustividad en entrenamiento { recall_train : .4f} y validación { recall_test : .4f}')\n",
    "    \n",
    "calculate_scores(ensemble, X_train, X_valid, y_train, y_valid)"
   ]
  },
  {
   "cell_type": "code",
   "execution_count": 37,
   "id": "3eb2085b",
   "metadata": {},
   "outputs": [
    {
     "name": "stdout",
     "output_type": "stream",
     "text": [
      "Precisión en entrenamiento  0.6279 y validación  0.5377\n",
      "Exactitud en entrenamiento  0.7349 y validación  0.6220\n",
      "Exhaustividad en entrenamiento  0.6279 y validación  0.5377\n"
     ]
    }
   ],
   "source": [
    "from sklearn.feature_selection import chi2, SelectKBest\n",
    "from sklearn.pipeline import Pipeline\n",
    "\n",
    "pipeline = Pipeline([('kbest', SelectKBest(chi2, k=6)),\n",
    "                     ('voting', VotingClassifier(models))])\n",
    "pipeline.fit(X_train, y_train)\n",
    "\n",
    "calculate_scores(pipeline, X_train, X_valid, y_train, y_valid)"
   ]
  },
  {
   "cell_type": "markdown",
   "id": "c0fd8b3d",
   "metadata": {},
   "source": [
    "## 10. Conjunto test"
   ]
  },
  {
   "cell_type": "code",
   "execution_count": 38,
   "id": "65a19445",
   "metadata": {},
   "outputs": [],
   "source": [
    "test_x = pd.read_csv(\"dataset/test_x.csv\")"
   ]
  },
  {
   "cell_type": "code",
   "execution_count": 39,
   "id": "068f2bd8",
   "metadata": {},
   "outputs": [
    {
     "data": {
      "text/html": [
       "<div>\n",
       "<style scoped>\n",
       "    .dataframe tbody tr th:only-of-type {\n",
       "        vertical-align: middle;\n",
       "    }\n",
       "\n",
       "    .dataframe tbody tr th {\n",
       "        vertical-align: top;\n",
       "    }\n",
       "\n",
       "    .dataframe thead th {\n",
       "        text-align: right;\n",
       "    }\n",
       "</style>\n",
       "<table border=\"1\" class=\"dataframe\">\n",
       "  <thead>\n",
       "    <tr style=\"text-align: right;\">\n",
       "      <th></th>\n",
       "      <th>test_index</th>\n",
       "      <th>Date</th>\n",
       "      <th>Open</th>\n",
       "      <th>High</th>\n",
       "      <th>Low</th>\n",
       "      <th>Close</th>\n",
       "      <th>Adj Close</th>\n",
       "      <th>Volume</th>\n",
       "    </tr>\n",
       "  </thead>\n",
       "  <tbody>\n",
       "    <tr>\n",
       "      <th>0</th>\n",
       "      <td>6557</td>\n",
       "      <td>2019-06-05</td>\n",
       "      <td>9136.799805</td>\n",
       "      <td>9173.400391</td>\n",
       "      <td>9095.000000</td>\n",
       "      <td>9150.500000</td>\n",
       "      <td>9150.500000</td>\n",
       "      <td>158753000.0</td>\n",
       "    </tr>\n",
       "    <tr>\n",
       "      <th>1</th>\n",
       "      <td>6558</td>\n",
       "      <td>2019-06-06</td>\n",
       "      <td>9169.200195</td>\n",
       "      <td>9246.200195</td>\n",
       "      <td>9136.700195</td>\n",
       "      <td>9169.200195</td>\n",
       "      <td>9169.200195</td>\n",
       "      <td>212720900.0</td>\n",
       "    </tr>\n",
       "    <tr>\n",
       "      <th>2</th>\n",
       "      <td>6559</td>\n",
       "      <td>2019-06-07</td>\n",
       "      <td>9186.700195</td>\n",
       "      <td>9261.400391</td>\n",
       "      <td>9185.700195</td>\n",
       "      <td>9236.099609</td>\n",
       "      <td>9236.099609</td>\n",
       "      <td>150664700.0</td>\n",
       "    </tr>\n",
       "    <tr>\n",
       "      <th>3</th>\n",
       "      <td>6560</td>\n",
       "      <td>2019-06-10</td>\n",
       "      <td>9284.200195</td>\n",
       "      <td>9302.200195</td>\n",
       "      <td>9248.099609</td>\n",
       "      <td>9294.099609</td>\n",
       "      <td>9294.099609</td>\n",
       "      <td>102323700.0</td>\n",
       "    </tr>\n",
       "    <tr>\n",
       "      <th>4</th>\n",
       "      <td>6561</td>\n",
       "      <td>2019-06-11</td>\n",
       "      <td>9288.599609</td>\n",
       "      <td>9332.500000</td>\n",
       "      <td>9273.400391</td>\n",
       "      <td>9282.099609</td>\n",
       "      <td>9282.099609</td>\n",
       "      <td>144701200.0</td>\n",
       "    </tr>\n",
       "    <tr>\n",
       "      <th>...</th>\n",
       "      <td>...</td>\n",
       "      <td>...</td>\n",
       "      <td>...</td>\n",
       "      <td>...</td>\n",
       "      <td>...</td>\n",
       "      <td>...</td>\n",
       "      <td>...</td>\n",
       "      <td>...</td>\n",
       "    </tr>\n",
       "    <tr>\n",
       "      <th>721</th>\n",
       "      <td>7278</td>\n",
       "      <td>2022-03-25</td>\n",
       "      <td>8314.099609</td>\n",
       "      <td>8363.200195</td>\n",
       "      <td>8286.500000</td>\n",
       "      <td>8330.599609</td>\n",
       "      <td>8330.599609</td>\n",
       "      <td>156189000.0</td>\n",
       "    </tr>\n",
       "    <tr>\n",
       "      <th>722</th>\n",
       "      <td>7279</td>\n",
       "      <td>2022-03-28</td>\n",
       "      <td>8354.400391</td>\n",
       "      <td>8485.700195</td>\n",
       "      <td>8354.400391</td>\n",
       "      <td>8365.599609</td>\n",
       "      <td>8365.599609</td>\n",
       "      <td>167961800.0</td>\n",
       "    </tr>\n",
       "    <tr>\n",
       "      <th>723</th>\n",
       "      <td>7280</td>\n",
       "      <td>2022-03-29</td>\n",
       "      <td>8451.000000</td>\n",
       "      <td>8621.000000</td>\n",
       "      <td>8419.700195</td>\n",
       "      <td>8614.599609</td>\n",
       "      <td>8614.599609</td>\n",
       "      <td>257812200.0</td>\n",
       "    </tr>\n",
       "    <tr>\n",
       "      <th>724</th>\n",
       "      <td>7281</td>\n",
       "      <td>2022-03-30</td>\n",
       "      <td>8583.299805</td>\n",
       "      <td>8597.400391</td>\n",
       "      <td>8508.900391</td>\n",
       "      <td>8550.599609</td>\n",
       "      <td>8550.599609</td>\n",
       "      <td>185389000.0</td>\n",
       "    </tr>\n",
       "    <tr>\n",
       "      <th>725</th>\n",
       "      <td>7282</td>\n",
       "      <td>2022-03-31</td>\n",
       "      <td>8562.599609</td>\n",
       "      <td>8588.299805</td>\n",
       "      <td>8445.099609</td>\n",
       "      <td>8445.099609</td>\n",
       "      <td>8445.099609</td>\n",
       "      <td>220117500.0</td>\n",
       "    </tr>\n",
       "  </tbody>\n",
       "</table>\n",
       "<p>726 rows × 8 columns</p>\n",
       "</div>"
      ],
      "text/plain": [
       "     test_index        Date         Open         High          Low  \\\n",
       "0          6557  2019-06-05  9136.799805  9173.400391  9095.000000   \n",
       "1          6558  2019-06-06  9169.200195  9246.200195  9136.700195   \n",
       "2          6559  2019-06-07  9186.700195  9261.400391  9185.700195   \n",
       "3          6560  2019-06-10  9284.200195  9302.200195  9248.099609   \n",
       "4          6561  2019-06-11  9288.599609  9332.500000  9273.400391   \n",
       "..          ...         ...          ...          ...          ...   \n",
       "721        7278  2022-03-25  8314.099609  8363.200195  8286.500000   \n",
       "722        7279  2022-03-28  8354.400391  8485.700195  8354.400391   \n",
       "723        7280  2022-03-29  8451.000000  8621.000000  8419.700195   \n",
       "724        7281  2022-03-30  8583.299805  8597.400391  8508.900391   \n",
       "725        7282  2022-03-31  8562.599609  8588.299805  8445.099609   \n",
       "\n",
       "           Close    Adj Close       Volume  \n",
       "0    9150.500000  9150.500000  158753000.0  \n",
       "1    9169.200195  9169.200195  212720900.0  \n",
       "2    9236.099609  9236.099609  150664700.0  \n",
       "3    9294.099609  9294.099609  102323700.0  \n",
       "4    9282.099609  9282.099609  144701200.0  \n",
       "..           ...          ...          ...  \n",
       "721  8330.599609  8330.599609  156189000.0  \n",
       "722  8365.599609  8365.599609  167961800.0  \n",
       "723  8614.599609  8614.599609  257812200.0  \n",
       "724  8550.599609  8550.599609  185389000.0  \n",
       "725  8445.099609  8445.099609  220117500.0  \n",
       "\n",
       "[726 rows x 8 columns]"
      ]
     },
     "execution_count": 39,
     "metadata": {},
     "output_type": "execute_result"
    }
   ],
   "source": [
    "test_x"
   ]
  },
  {
   "cell_type": "markdown",
   "id": "cad8428a",
   "metadata": {},
   "source": [
    "Preparamos los datos al igual que hicimos anteriormente con los datos de entrenamiento"
   ]
  },
  {
   "cell_type": "code",
   "execution_count": 40,
   "id": "4dda9f52",
   "metadata": {
    "scrolled": true
   },
   "outputs": [],
   "source": [
    "test_x_ing = create_diff_columns(test_x.copy(deep=True), \"Adj Close\", 5)"
   ]
  },
  {
   "cell_type": "code",
   "execution_count": 41,
   "id": "4b4726b1",
   "metadata": {},
   "outputs": [
    {
     "data": {
      "text/html": [
       "<div>\n",
       "<style scoped>\n",
       "    .dataframe tbody tr th:only-of-type {\n",
       "        vertical-align: middle;\n",
       "    }\n",
       "\n",
       "    .dataframe tbody tr th {\n",
       "        vertical-align: top;\n",
       "    }\n",
       "\n",
       "    .dataframe thead th {\n",
       "        text-align: right;\n",
       "    }\n",
       "</style>\n",
       "<table border=\"1\" class=\"dataframe\">\n",
       "  <thead>\n",
       "    <tr style=\"text-align: right;\">\n",
       "      <th></th>\n",
       "      <th>test_index</th>\n",
       "      <th>Date</th>\n",
       "      <th>Open</th>\n",
       "      <th>High</th>\n",
       "      <th>Low</th>\n",
       "      <th>Close</th>\n",
       "      <th>Adj Close</th>\n",
       "      <th>Volume</th>\n",
       "      <th>Adj Close_diff_1</th>\n",
       "      <th>Adj Close_diff_2</th>\n",
       "      <th>Adj Close_diff_3</th>\n",
       "      <th>Adj Close_diff_4</th>\n",
       "    </tr>\n",
       "  </thead>\n",
       "  <tbody>\n",
       "    <tr>\n",
       "      <th>0</th>\n",
       "      <td>6557</td>\n",
       "      <td>2019-06-05</td>\n",
       "      <td>9136.799805</td>\n",
       "      <td>9173.400391</td>\n",
       "      <td>9095.000000</td>\n",
       "      <td>9150.500000</td>\n",
       "      <td>9150.500000</td>\n",
       "      <td>158753000.0</td>\n",
       "      <td>NaN</td>\n",
       "      <td>NaN</td>\n",
       "      <td>NaN</td>\n",
       "      <td>NaN</td>\n",
       "    </tr>\n",
       "    <tr>\n",
       "      <th>1</th>\n",
       "      <td>6558</td>\n",
       "      <td>2019-06-06</td>\n",
       "      <td>9169.200195</td>\n",
       "      <td>9246.200195</td>\n",
       "      <td>9136.700195</td>\n",
       "      <td>9169.200195</td>\n",
       "      <td>9169.200195</td>\n",
       "      <td>212720900.0</td>\n",
       "      <td>18.700195</td>\n",
       "      <td>NaN</td>\n",
       "      <td>NaN</td>\n",
       "      <td>NaN</td>\n",
       "    </tr>\n",
       "    <tr>\n",
       "      <th>2</th>\n",
       "      <td>6559</td>\n",
       "      <td>2019-06-07</td>\n",
       "      <td>9186.700195</td>\n",
       "      <td>9261.400391</td>\n",
       "      <td>9185.700195</td>\n",
       "      <td>9236.099609</td>\n",
       "      <td>9236.099609</td>\n",
       "      <td>150664700.0</td>\n",
       "      <td>66.899414</td>\n",
       "      <td>85.599609</td>\n",
       "      <td>NaN</td>\n",
       "      <td>NaN</td>\n",
       "    </tr>\n",
       "    <tr>\n",
       "      <th>3</th>\n",
       "      <td>6560</td>\n",
       "      <td>2019-06-10</td>\n",
       "      <td>9284.200195</td>\n",
       "      <td>9302.200195</td>\n",
       "      <td>9248.099609</td>\n",
       "      <td>9294.099609</td>\n",
       "      <td>9294.099609</td>\n",
       "      <td>102323700.0</td>\n",
       "      <td>58.000000</td>\n",
       "      <td>124.899414</td>\n",
       "      <td>143.599609</td>\n",
       "      <td>NaN</td>\n",
       "    </tr>\n",
       "    <tr>\n",
       "      <th>4</th>\n",
       "      <td>6561</td>\n",
       "      <td>2019-06-11</td>\n",
       "      <td>9288.599609</td>\n",
       "      <td>9332.500000</td>\n",
       "      <td>9273.400391</td>\n",
       "      <td>9282.099609</td>\n",
       "      <td>9282.099609</td>\n",
       "      <td>144701200.0</td>\n",
       "      <td>-12.000000</td>\n",
       "      <td>46.000000</td>\n",
       "      <td>112.899414</td>\n",
       "      <td>131.599609</td>\n",
       "    </tr>\n",
       "    <tr>\n",
       "      <th>...</th>\n",
       "      <td>...</td>\n",
       "      <td>...</td>\n",
       "      <td>...</td>\n",
       "      <td>...</td>\n",
       "      <td>...</td>\n",
       "      <td>...</td>\n",
       "      <td>...</td>\n",
       "      <td>...</td>\n",
       "      <td>...</td>\n",
       "      <td>...</td>\n",
       "      <td>...</td>\n",
       "      <td>...</td>\n",
       "    </tr>\n",
       "    <tr>\n",
       "      <th>721</th>\n",
       "      <td>7278</td>\n",
       "      <td>2022-03-25</td>\n",
       "      <td>8314.099609</td>\n",
       "      <td>8363.200195</td>\n",
       "      <td>8286.500000</td>\n",
       "      <td>8330.599609</td>\n",
       "      <td>8330.599609</td>\n",
       "      <td>156189000.0</td>\n",
       "      <td>25.500000</td>\n",
       "      <td>2.199218</td>\n",
       "      <td>-156.600586</td>\n",
       "      <td>-58.600586</td>\n",
       "    </tr>\n",
       "    <tr>\n",
       "      <th>722</th>\n",
       "      <td>7279</td>\n",
       "      <td>2022-03-28</td>\n",
       "      <td>8354.400391</td>\n",
       "      <td>8485.700195</td>\n",
       "      <td>8354.400391</td>\n",
       "      <td>8365.599609</td>\n",
       "      <td>8365.599609</td>\n",
       "      <td>167961800.0</td>\n",
       "      <td>35.000000</td>\n",
       "      <td>60.500000</td>\n",
       "      <td>37.199218</td>\n",
       "      <td>-121.600586</td>\n",
       "    </tr>\n",
       "    <tr>\n",
       "      <th>723</th>\n",
       "      <td>7280</td>\n",
       "      <td>2022-03-29</td>\n",
       "      <td>8451.000000</td>\n",
       "      <td>8621.000000</td>\n",
       "      <td>8419.700195</td>\n",
       "      <td>8614.599609</td>\n",
       "      <td>8614.599609</td>\n",
       "      <td>257812200.0</td>\n",
       "      <td>249.000000</td>\n",
       "      <td>284.000000</td>\n",
       "      <td>309.500000</td>\n",
       "      <td>286.199218</td>\n",
       "    </tr>\n",
       "    <tr>\n",
       "      <th>724</th>\n",
       "      <td>7281</td>\n",
       "      <td>2022-03-30</td>\n",
       "      <td>8583.299805</td>\n",
       "      <td>8597.400391</td>\n",
       "      <td>8508.900391</td>\n",
       "      <td>8550.599609</td>\n",
       "      <td>8550.599609</td>\n",
       "      <td>185389000.0</td>\n",
       "      <td>-64.000000</td>\n",
       "      <td>185.000000</td>\n",
       "      <td>220.000000</td>\n",
       "      <td>245.500000</td>\n",
       "    </tr>\n",
       "    <tr>\n",
       "      <th>725</th>\n",
       "      <td>7282</td>\n",
       "      <td>2022-03-31</td>\n",
       "      <td>8562.599609</td>\n",
       "      <td>8588.299805</td>\n",
       "      <td>8445.099609</td>\n",
       "      <td>8445.099609</td>\n",
       "      <td>8445.099609</td>\n",
       "      <td>220117500.0</td>\n",
       "      <td>-105.500000</td>\n",
       "      <td>-169.500000</td>\n",
       "      <td>79.500000</td>\n",
       "      <td>114.500000</td>\n",
       "    </tr>\n",
       "  </tbody>\n",
       "</table>\n",
       "<p>726 rows × 12 columns</p>\n",
       "</div>"
      ],
      "text/plain": [
       "     test_index        Date         Open         High          Low  \\\n",
       "0          6557  2019-06-05  9136.799805  9173.400391  9095.000000   \n",
       "1          6558  2019-06-06  9169.200195  9246.200195  9136.700195   \n",
       "2          6559  2019-06-07  9186.700195  9261.400391  9185.700195   \n",
       "3          6560  2019-06-10  9284.200195  9302.200195  9248.099609   \n",
       "4          6561  2019-06-11  9288.599609  9332.500000  9273.400391   \n",
       "..          ...         ...          ...          ...          ...   \n",
       "721        7278  2022-03-25  8314.099609  8363.200195  8286.500000   \n",
       "722        7279  2022-03-28  8354.400391  8485.700195  8354.400391   \n",
       "723        7280  2022-03-29  8451.000000  8621.000000  8419.700195   \n",
       "724        7281  2022-03-30  8583.299805  8597.400391  8508.900391   \n",
       "725        7282  2022-03-31  8562.599609  8588.299805  8445.099609   \n",
       "\n",
       "           Close    Adj Close       Volume  Adj Close_diff_1  \\\n",
       "0    9150.500000  9150.500000  158753000.0               NaN   \n",
       "1    9169.200195  9169.200195  212720900.0         18.700195   \n",
       "2    9236.099609  9236.099609  150664700.0         66.899414   \n",
       "3    9294.099609  9294.099609  102323700.0         58.000000   \n",
       "4    9282.099609  9282.099609  144701200.0        -12.000000   \n",
       "..           ...          ...          ...               ...   \n",
       "721  8330.599609  8330.599609  156189000.0         25.500000   \n",
       "722  8365.599609  8365.599609  167961800.0         35.000000   \n",
       "723  8614.599609  8614.599609  257812200.0        249.000000   \n",
       "724  8550.599609  8550.599609  185389000.0        -64.000000   \n",
       "725  8445.099609  8445.099609  220117500.0       -105.500000   \n",
       "\n",
       "     Adj Close_diff_2  Adj Close_diff_3  Adj Close_diff_4  \n",
       "0                 NaN               NaN               NaN  \n",
       "1                 NaN               NaN               NaN  \n",
       "2           85.599609               NaN               NaN  \n",
       "3          124.899414        143.599609               NaN  \n",
       "4           46.000000        112.899414        131.599609  \n",
       "..                ...               ...               ...  \n",
       "721          2.199218       -156.600586        -58.600586  \n",
       "722         60.500000         37.199218       -121.600586  \n",
       "723        284.000000        309.500000        286.199218  \n",
       "724        185.000000        220.000000        245.500000  \n",
       "725       -169.500000         79.500000        114.500000  \n",
       "\n",
       "[726 rows x 12 columns]"
      ]
     },
     "execution_count": 41,
     "metadata": {},
     "output_type": "execute_result"
    }
   ],
   "source": [
    "test_x_ing"
   ]
  },
  {
   "cell_type": "markdown",
   "id": "96fc8f49",
   "metadata": {},
   "source": [
    "Tenemos dos variables prácticamente iguales, _Close_ y _Adj Close_. Eliminaremos la primera de ellas."
   ]
  },
  {
   "cell_type": "code",
   "execution_count": 42,
   "id": "b90afef3",
   "metadata": {},
   "outputs": [],
   "source": [
    "test_x_ing.drop(columns=[\"Close\"], inplace=True)"
   ]
  },
  {
   "cell_type": "code",
   "execution_count": 43,
   "id": "0571aa7e",
   "metadata": {},
   "outputs": [],
   "source": [
    "test_x_ing.drop(columns=[\"Open\"], inplace=True)"
   ]
  },
  {
   "cell_type": "code",
   "execution_count": 44,
   "id": "b0c9bf7f",
   "metadata": {},
   "outputs": [],
   "source": [
    "test_x_ing.fillna(0, inplace=True)\n",
    "    \n",
    "data_test_x_features = test_x_ing[features]\n",
    "    \n",
    "features_test_x_MinMax = scaler.transform(data_test_x_features)"
   ]
  },
  {
   "cell_type": "code",
   "execution_count": 45,
   "id": "025672fc",
   "metadata": {},
   "outputs": [],
   "source": [
    "predict_y = ensemble.predict(features_test_x_MinMax)"
   ]
  },
  {
   "cell_type": "code",
   "execution_count": 46,
   "id": "8253569c",
   "metadata": {},
   "outputs": [
    {
     "data": {
      "text/plain": [
       "array([1, 1, 1, 1, 1, 1, 1, 1, 1, 1, 1, 1, 1, 1, 1, 1, 1, 1, 1, 1, 1, 1,\n",
       "       1, 1, 1, 1, 1, 1, 1, 1, 0, 1, 1, 1, 1, 1, 1, 1, 1, 1, 1, 1, 1, 1,\n",
       "       1, 1, 1, 1, 1, 1, 0, 1, 1, 1, 0, 1, 1, 1, 1, 1, 1, 1, 1, 1, 1, 1,\n",
       "       1, 1, 1, 1, 1, 1, 1, 1, 1, 1, 1, 1, 0, 1, 1, 1, 1, 1, 1, 0, 1, 1,\n",
       "       1, 0, 1, 1, 1, 1, 1, 1, 1, 1, 1, 1, 1, 1, 1, 1, 1, 0, 1, 1, 1, 1,\n",
       "       1, 1, 1, 1, 1, 1, 1, 1, 1, 1, 1, 1, 1, 1, 1, 1, 1, 1, 0, 1, 1, 1,\n",
       "       1, 1, 1, 1, 1, 1, 1, 1, 1, 1, 1, 1, 1, 1, 1, 1, 1, 1, 1, 1, 1, 1,\n",
       "       1, 1, 1, 1, 1, 1, 1, 1, 1, 1, 1, 1, 0, 1, 1, 1, 0, 1, 1, 1, 1, 1,\n",
       "       1, 1, 1, 1, 1, 1, 1, 1, 1, 1, 1, 1, 1, 1, 1, 0, 1, 1, 0, 1, 1, 1,\n",
       "       1, 1, 1, 1, 1, 1, 1, 1, 1, 1, 1, 1, 0, 1, 1, 0, 1, 1, 1, 1, 1, 1,\n",
       "       1, 1, 1, 1, 1, 1, 1, 1, 0, 1, 1, 1, 0, 1, 1, 1, 1, 1, 0, 1, 1, 1,\n",
       "       1, 1, 0, 1, 1, 1, 1, 1, 1, 1, 0, 1, 1, 1, 1, 1, 1, 0, 1, 1, 0, 1,\n",
       "       1, 1, 1, 1, 1, 1, 1, 1, 1, 1, 1, 1, 1, 0, 1, 0, 1, 1, 1, 1, 1, 1,\n",
       "       1, 1, 1, 1, 0, 1, 1, 1, 1, 1, 1, 0, 1, 1, 1, 1, 1, 1, 1, 1, 1, 0,\n",
       "       1, 1, 1, 0, 1, 1, 1, 1, 1, 1, 0, 1, 1, 1, 1, 1, 1, 1, 1, 1, 1, 1,\n",
       "       1, 1, 0, 1, 0, 1, 1, 1, 1, 1, 1, 1, 1, 1, 1, 1, 1, 1, 1, 1, 1, 0,\n",
       "       1, 1, 1, 1, 1, 1, 0, 1, 1, 1, 1, 1, 1, 1, 1, 1, 1, 1, 1, 0, 1, 1,\n",
       "       1, 1, 1, 1, 1, 1, 1, 1, 1, 1, 1, 1, 1, 1, 1, 1, 1, 1, 1, 1, 1, 1,\n",
       "       1, 1, 1, 1, 1, 1, 1, 1, 1, 1, 1, 1, 1, 1, 1, 1, 1, 1, 1, 1, 1, 1,\n",
       "       1, 1, 1, 1, 1, 1, 1, 0, 1, 1, 1, 1, 1, 1, 1, 1, 1, 1, 1, 1, 1, 1,\n",
       "       1, 1, 1, 1, 1, 0, 1, 1, 1, 1, 1, 1, 1, 1, 1, 1, 1, 1, 1, 1, 0, 1,\n",
       "       1, 1, 1, 1, 1, 1, 1, 1, 1, 1, 1, 1, 1, 1, 1, 1, 1, 1, 0, 1, 1, 1,\n",
       "       1, 1, 1, 1, 1, 1, 1, 1, 1, 1, 1, 0, 1, 1, 1, 1, 1, 0, 1, 1, 1, 1,\n",
       "       1, 1, 1, 1, 1, 1, 1, 1, 1, 1, 1, 1, 1, 1, 1, 1, 1, 1, 1, 1, 1, 1,\n",
       "       1, 1, 1, 1, 1, 1, 1, 0, 1, 0, 1, 1, 0, 1, 1, 1, 1, 1, 1, 1, 1, 1,\n",
       "       1, 1, 1, 0, 1, 1, 1, 1, 1, 1, 1, 1, 1, 1, 1, 1, 1, 1, 1, 1, 1, 1,\n",
       "       1, 1, 1, 1, 1, 1, 0, 1, 1, 1, 1, 1, 1, 1, 0, 1, 1, 0, 1, 1, 1, 1,\n",
       "       1, 0, 1, 1, 1, 1, 1, 1, 1, 1, 1, 1, 1, 1, 1, 1, 1, 1, 1, 1, 1, 1,\n",
       "       1, 1, 1, 1, 1, 1, 1, 1, 1, 1, 1, 1, 1, 1, 1, 1, 1, 1, 1, 1, 1, 1,\n",
       "       0, 1, 1, 1, 0, 1, 1, 1, 1, 1, 1, 1, 1, 0, 1, 1, 1, 1, 1, 1, 1, 1,\n",
       "       1, 1, 1, 1, 1, 1, 1, 1, 1, 1, 1, 1, 1, 1, 1, 1, 1, 0, 1, 1, 1, 1,\n",
       "       1, 1, 1, 1, 0, 1, 1, 1, 1, 0, 0, 1, 1, 1, 1, 1, 1, 1, 0, 1, 1, 0,\n",
       "       1, 1, 1, 1, 1, 1, 0, 1, 1, 1, 1, 1, 1, 1, 1, 0, 1, 1, 1, 1, 1, 0],\n",
       "      dtype=int64)"
      ]
     },
     "execution_count": 46,
     "metadata": {},
     "output_type": "execute_result"
    }
   ],
   "source": [
    "predict_y"
   ]
  },
  {
   "cell_type": "code",
   "execution_count": 47,
   "id": "1a710ce0",
   "metadata": {
    "scrolled": true
   },
   "outputs": [],
   "source": [
    "predictions = pd.DataFrame({'test_index': test_x[\"test_index\"], 'Target': predict_y})"
   ]
  },
  {
   "cell_type": "code",
   "execution_count": 48,
   "id": "226bdd7f",
   "metadata": {},
   "outputs": [
    {
     "data": {
      "text/html": [
       "<div>\n",
       "<style scoped>\n",
       "    .dataframe tbody tr th:only-of-type {\n",
       "        vertical-align: middle;\n",
       "    }\n",
       "\n",
       "    .dataframe tbody tr th {\n",
       "        vertical-align: top;\n",
       "    }\n",
       "\n",
       "    .dataframe thead th {\n",
       "        text-align: right;\n",
       "    }\n",
       "</style>\n",
       "<table border=\"1\" class=\"dataframe\">\n",
       "  <thead>\n",
       "    <tr style=\"text-align: right;\">\n",
       "      <th></th>\n",
       "      <th>test_index</th>\n",
       "      <th>Target</th>\n",
       "    </tr>\n",
       "  </thead>\n",
       "  <tbody>\n",
       "    <tr>\n",
       "      <th>0</th>\n",
       "      <td>6557</td>\n",
       "      <td>1</td>\n",
       "    </tr>\n",
       "    <tr>\n",
       "      <th>1</th>\n",
       "      <td>6558</td>\n",
       "      <td>1</td>\n",
       "    </tr>\n",
       "    <tr>\n",
       "      <th>2</th>\n",
       "      <td>6559</td>\n",
       "      <td>1</td>\n",
       "    </tr>\n",
       "    <tr>\n",
       "      <th>3</th>\n",
       "      <td>6560</td>\n",
       "      <td>1</td>\n",
       "    </tr>\n",
       "    <tr>\n",
       "      <th>4</th>\n",
       "      <td>6561</td>\n",
       "      <td>1</td>\n",
       "    </tr>\n",
       "    <tr>\n",
       "      <th>...</th>\n",
       "      <td>...</td>\n",
       "      <td>...</td>\n",
       "    </tr>\n",
       "    <tr>\n",
       "      <th>721</th>\n",
       "      <td>7278</td>\n",
       "      <td>1</td>\n",
       "    </tr>\n",
       "    <tr>\n",
       "      <th>722</th>\n",
       "      <td>7279</td>\n",
       "      <td>1</td>\n",
       "    </tr>\n",
       "    <tr>\n",
       "      <th>723</th>\n",
       "      <td>7280</td>\n",
       "      <td>1</td>\n",
       "    </tr>\n",
       "    <tr>\n",
       "      <th>724</th>\n",
       "      <td>7281</td>\n",
       "      <td>1</td>\n",
       "    </tr>\n",
       "    <tr>\n",
       "      <th>725</th>\n",
       "      <td>7282</td>\n",
       "      <td>0</td>\n",
       "    </tr>\n",
       "  </tbody>\n",
       "</table>\n",
       "<p>726 rows × 2 columns</p>\n",
       "</div>"
      ],
      "text/plain": [
       "     test_index  Target\n",
       "0          6557       1\n",
       "1          6558       1\n",
       "2          6559       1\n",
       "3          6560       1\n",
       "4          6561       1\n",
       "..          ...     ...\n",
       "721        7278       1\n",
       "722        7279       1\n",
       "723        7280       1\n",
       "724        7281       1\n",
       "725        7282       0\n",
       "\n",
       "[726 rows x 2 columns]"
      ]
     },
     "execution_count": 48,
     "metadata": {},
     "output_type": "execute_result"
    }
   ],
   "source": [
    "predictions"
   ]
  },
  {
   "cell_type": "code",
   "execution_count": 49,
   "id": "98a2410d",
   "metadata": {},
   "outputs": [],
   "source": [
    "predictions.to_csv('predictions.csv', index=False)"
   ]
  },
  {
   "cell_type": "code",
   "execution_count": 50,
   "id": "a8eccecf",
   "metadata": {},
   "outputs": [],
   "source": [
    "predictions.to_json('predictions.json')"
   ]
  },
  {
   "cell_type": "code",
   "execution_count": null,
   "id": "fab5210e",
   "metadata": {},
   "outputs": [],
   "source": []
  }
 ],
 "metadata": {
  "kernelspec": {
   "display_name": "Python 3 (ipykernel)",
   "language": "python",
   "name": "python3"
  },
  "language_info": {
   "codemirror_mode": {
    "name": "ipython",
    "version": 3
   },
   "file_extension": ".py",
   "mimetype": "text/x-python",
   "name": "python",
   "nbconvert_exporter": "python",
   "pygments_lexer": "ipython3",
   "version": "3.8.10"
  }
 },
 "nbformat": 4,
 "nbformat_minor": 5
}
